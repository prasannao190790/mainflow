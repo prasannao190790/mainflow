{
  "nbformat": 4,
  "nbformat_minor": 0,
  "metadata": {
    "colab": {
      "provenance": []
    },
    "kernelspec": {
      "name": "python3",
      "display_name": "Python 3"
    },
    "language_info": {
      "name": "python"
    }
  },
  "cells": [
    {
      "cell_type": "code",
      "execution_count": 10,
      "metadata": {
        "id": "zVxgVjr432fC"
      },
      "outputs": [],
      "source": [
        "import requests\n",
        "\n"
      ]
    },
    {
      "cell_type": "code",
      "source": [
        "from bs4 import BeautifulSoup"
      ],
      "metadata": {
        "id": "YNEWbk8H6WP2"
      },
      "execution_count": 9,
      "outputs": []
    },
    {
      "cell_type": "code",
      "source": [
        "import os"
      ],
      "metadata": {
        "id": "YilUdh_Z6oh3"
      },
      "execution_count": 8,
      "outputs": []
    },
    {
      "cell_type": "code",
      "source": [
        "url=\"https://www.bikewale.com/royalenfield-bikes/\""
      ],
      "metadata": {
        "id": "8ECycedS6sGS"
      },
      "execution_count": 12,
      "outputs": []
    },
    {
      "cell_type": "code",
      "source": [
        "r= requests.get(url)"
      ],
      "metadata": {
        "id": "tex9s7TW9xIw"
      },
      "execution_count": 13,
      "outputs": []
    },
    {
      "cell_type": "code",
      "source": [
        "soup = BeautifulSoup(r.text,'html.parser')"
      ],
      "metadata": {
        "id": "nKwo4Hpa92eB"
      },
      "execution_count": 16,
      "outputs": []
    },
    {
      "cell_type": "code",
      "source": [
        "print(soup.title.text)"
      ],
      "metadata": {
        "colab": {
          "base_uri": "https://localhost:8080/"
        },
        "id": "iEgxPFzU-DCe",
        "outputId": "bf2eb14d-6c06-4cbc-9761-53095b8c7232"
      },
      "execution_count": 17,
      "outputs": [
        {
          "output_type": "stream",
          "name": "stdout",
          "text": [
            "Royal Enfield Bikes Price in India - New Royal Enfield Models 2024, Images & Specs - BikeWale\n"
          ]
        }
      ]
    },
    {
      "cell_type": "code",
      "source": [
        "print(soup.text)"
      ],
      "metadata": {
        "colab": {
          "base_uri": "https://localhost:8080/"
        },
        "id": "E-2Ya9Cm-ZTZ",
        "outputId": "9a739cf7-c724-4531-9bec-31aa5868e996"
      },
      "execution_count": 18,
      "outputs": [
        {
          "output_type": "stream",
          "name": "stdout",
          "text": [
            "\n",
            "\n",
            "Royal Enfield Bikes Price in India - New Royal Enfield Models 2024, Images & Specs - BikeWale\n",
            "\n",
            "\n",
            "\n",
            "\n",
            "\n",
            "\n",
            "\n",
            "\n",
            "\n",
            " \n",
            "\n",
            "\n",
            "\n",
            "Log InADRoyal Enfield BikesRoyal Enfield bike price starts from Rs. 1,49,900. Royal Enfield offers 10 new models in India with most popular bikes being Hunter 350, Continental GT 650 and Classic 350. The upcoming bikes of Royal Enfield include Guerrilla 450, Classic 350 Bobber and Scrambler 650. Most expensive Royal Enfield bike is Super Meteor 650, which is priced at Rs. 3,63,900.Royal Enfield is one of the oldest surviving motorcycle manufacturers in the world. It was known for its old school styling and played a big role in World War. In 1994, Eicher Motors acquired Royal Enfield and started working on an entirely new line-up of motorcycles. While the company continued to make classic and old-school motorcycles till 2017, its brand new portfolio started coming up in 2017 and that helped the brand bring in a lot more buyers into the brand – in India as well as abroad.Currently, Royal Enfield sells motorcycles in three primary segments – 350cc, 450cc and 650cc. In the 350cc segment, the company is selling a total of four different motorcycles and this number will increase in a few months. On the other hand, the 450cc class is new for the company and there will be at least half a dozen more bikes that the company will launch in the next few years. Royal Enfield is an extremely strong line-up in the 650cc range, and there’s high chance of more bikes to be launched here. The main reasons Royal Enfield is doing so well in India is due to its brand image and what that brand stands for. All Royal Enfield bikes have a character that is completely different from the bikes that are sold in India. The combination of modern retro styling, an engine with good torque and lots of brand value makes Royal Enfield one of the best motorcycle brands in the world. Even though the company has stuck to its heritage, it has adopted a lot of new and modern technologies. It is one of the few companies to introduce a full-colour TFT instrument cluster on an adventure bike. Plus, this screen also supports Google Maps with navigation and traffic detail. These new features are likely to make their way to more motorcycles in the future.Royal Enfield also has plans to launch electric motorcycles. For now, there is not concrete details on this, but the first electric RE is likely to come in 2027.Updated on 19th June, 2024.Royal Enfield Bikes Price List (June 2024) in IndiaRoyal Enfield Bike ModelOn-Road PricesRoyal Enfield Hunter 350₹ 1,49,900  *Royal Enfield Continental GT 650₹ 3,18,418  *Royal Enfield Classic 350₹ 1,93,080  *Royal Enfield Bullet 350₹ 1,73,562  *Royal Enfield Himalayan 450₹ 2,85,000  *Royal Enfield Meteor 350₹ 2,05,528  *Royal Enfield Shotgun 650₹ 3,59,430  *Royal Enfield Super Meteor 650₹ 3,63,900  *Royal Enfield Interceptor 650₹ 3,02,418  *Royal Enfield Scram 411₹ 2,06,234  **Is Avg. Ex-showroom PriceRead MoreRoyal Enfield Bikes Price in IndiaBike ModelsTop ComparisonsImagesReviewsNewsBike ModelsTop ComparisonsImagesReviewsNewsFilter ByLoading...Sort byPopularity4.7/51315 RatingsRoyal Enfield Hunter 350349.34 cc|35 kmpl|20.2 bhp|177 kg₹ 1,49,900Avg. Ex-Showroom priceCheck On-Road Price4.8/5721 RatingsRoyal Enfield Continental GT 650648 cc|25 kmpl|47 bhp|211 kg₹ 3,18,418Avg. Ex-Showroom priceCheck On-Road Price4.6/51022 RatingsRoyal Enfield Classic 350349 cc|35 kmpl|20.2 bhp|195 kg₹ 1,93,080Avg. Ex-Showroom priceCheck On-Road Price4.6/5412 RatingsRoyal Enfield Bullet 350349 cc|35 kmpl|20.2 bhp|195 kg₹ 1,73,562Avg. Ex-Showroom priceCheck On-Road Price4.8/5125 RatingsRoyal Enfield Himalayan 450452 cc|30 kmpl|39.47 bhp|196 kg₹ 2,85,000Avg. Ex-Showroom priceCheck On-Road Price4.6/5620 RatingsRoyal Enfield Meteor 350349 cc|35 kmpl|20.2 bhp|191 kg₹ 2,05,528Avg. Ex-Showroom priceCheck On-Road Price4.8/556 RatingsRoyal Enfield Shotgun 650648 cc|46.39 bhp|240 kg₹ 3,59,430Avg. Ex-Showroom priceCheck On-Road Price4.8/598 RatingsRoyal Enfield Super Meteor 650648 cc|24 kmpl|46.3 bhp|241 kg₹ 3,63,900Avg. Ex-Showroom priceCheck On-Road Price4.6/5379 RatingsRoyal Enfield Interceptor 650648 cc|24 kmpl|47 bhp|213 kg₹ 3,02,418Avg. Ex-Showroom priceCheck On-Road Price4.6/5119 RatingsRoyal Enfield Scram 411411 cc|30 kmpl|24.3 bhp|185 kg₹ 2,06,234Avg. Ex-Showroom priceCheck On-Road PriceUPCOMING12th SEPRoyal Enfield Guerrilla 450₹  2,40,000 - ₹  2,60,000 Estimated PriceLaunch confidence: LowNotify meUPCOMING22nd OCTRoyal Enfield Classic 350 Bobber₹  2,00,000 - ₹  2,10,000 Estimated PriceLaunch confidence: LowNotify meUPCOMING18th NOVRoyal Enfield Scrambler 650₹  3,00,000 - ₹  3,20,000 Estimated PriceLaunch confidence: LowNotify meUPCOMING10th SEPRoyal Enfield Himalayan 650₹  4,00,000 - ₹  4,09,999 Estimated PriceLaunch confidence: LowNotify meUPCOMING15th DECRoyal Enfield Scrambler 450₹  2,60,000 - ₹  2,80,000 Estimated PriceLaunch confidence: LowNotify meUPCOMING1st OCTRoyal Enfield Continental GT 450₹  2,70,000 - ₹  3,00,000 Estimated PriceLaunch confidence: LowNotify meUPCOMING1st OCTRoyal Enfield Bullet 650₹  2,80,000 - ₹  2,90,000 Estimated PriceLaunch confidence: LowNotify meUPCOMING3rd DECRoyal Enfield Himalayan Electric₹  7,00,000 - ₹  8,00,000 Estimated PriceLaunch confidence: LowNotify meUPCOMING10th DECRoyal Enfield Classic 650₹  3,00,000 - ₹  3,20,000 Estimated PriceLaunch confidence: LowNotify mePopular Comparison of Royal Enfield BikesRoyal Enfield Hunter 350₹ 1,49,900OnwardsVSTVS Ronin₹ 1,49,197OnwardsCompare NowRoyal Enfield Continental GT 650₹ 3,18,418OnwardsVSRoyal Enfield Interceptor 650₹ 3,02,418OnwardsCompare NowRoyal Enfield Classic 350₹ 1,93,080OnwardsVSRoyal Enfield Bullet 350₹ 1,73,562OnwardsCompare NowRoyal Enfield Bullet 350₹ 1,73,562OnwardsVSRoyal Enfield Hunter 350₹ 1,49,900OnwardsCompare NowRoyal Enfield Himalayan 450₹ 2,85,000OnwardsVSKTM 390 Adventure X₹ 2,81,299OnwardsCompare NowRoyal Enfield Meteor 350₹ 2,05,528OnwardsVSHonda CB350₹ 2,14,771OnwardsCompare NowRoyal Enfield Shotgun 650₹ 3,59,430OnwardsVSRoyal Enfield Super Meteor 650₹ 3,63,900OnwardsCompare NowRoyal Enfield Super Meteor 650₹ 3,63,900OnwardsVSRoyal Enfield Interceptor 650₹ 3,02,418OnwardsCompare NowRoyal Enfield Interceptor 650₹ 3,02,418OnwardsVSRoyal Enfield Shotgun 650₹ 3,59,430OnwardsCompare NowRoyal Enfield Bikes Key HighlightsFuel TypePetrolUpcomingRoyal Enfield Guerrilla 450, Royal Enfield Classic 350 Bobber, Royal Enfield Scrambler 650PopularRoyal Enfield Hunter 350, Royal Enfield Continental GT 650, Royal Enfield Classic 350Most ExpensiveRoyal Enfield Super Meteor 650 (Rs. 3,63,900)Most AffordableRoyal Enfield Hunter 350 (Rs. 1,49,900)Dealer Showrooms Presence756 CitiesRoyal Enfield Bikes ImagesRoyal Enfield Hunter 350350Royal Enfield Continental GT 650729Royal Enfield Classic 350290Royal Enfield Bullet 350360Royal Enfield Himalayan 450219Royal Enfield Meteor 350418All Royal Enfield ImagesRoyal Enfield Bikes VideosRoyal Enfield Shotgun 650 Road Test Review | The Best 650cc Royal Enfield? | BikeWaleBy BikeWale Team2 months ago22,449 Views273 LikesRoyal Enfield Shotgun 650 Review | Here's Why It's Better Than Super Meteor 650 & Interceptor 650By BikeWale Team5 months ago1,298 Views84 LikesUpcoming Bikes in January 2024 | Shotgun 650, Hero 440cc Bike, Ather 450 Apex, Chetak Premium & MoreBy BikeWale Team5 months ago36,932 Views748 LikesRoyal Enfield Shotgun 650 Walkaround | Exhaust Sound, Launch Date & More | Motoverse 2023 |BikeWaleBy BikeWale Team7 months ago28,065 Views559 LikesAll Royal Enfield VideosRoyal Enfield Bikes Expert ReviewsRoyal Enfield Himalayan 450 Long Term Review: Off-road By Anuj Mishra1 month agoIt has so many tricks up its sleeves to be an ideal learner’s off-road motorcycle.Read MoreRoyal Enfield Streetwind Eco-Friendly Jacket Review – 5-Month UpdateBy Pratik Bhanushali 3 months agoIt has been a while since Royal Enfield sent us the Streetwind Eco-Friendly jacket for review. During our introduction report back in October 2023, we walked you through its construction, material, and featuresRead MoreTVS Eurogrip Terrabite DB+ and Dura Trail EB+ tyres: Road reviewBy Rishabh Bhaskar3 months agoFor most of us, tyres are just black coloured hoops made of rubber that are attached to motorcycle wheels. They are meant to roll with least resistance possible, offer the most amount of grip in every situation and be resistant to punctures. It all seems very easy but there’s a lot and I mean unfathomably lot to design and develop tyres. It’s something that struck me in the two days I spent experiencing two new tyres by TVS Eurogrip.Read MoreRynox Quest Pro Protective Base Layer Long-Term Review: Introduction             By Pratheek Kunder3 months agoFor years, Rynox has been doing wonders in the world of road riding gear and also luggage and accessoriesRead MoreRoyal Enfield Himalayan 450 Long Term Review: City ReportBy Vikrant Singh4 months agoIn this report, we will tell you the pros and cons of the Royal Enfield Himalayan 450 specific to city riding and daily commutes.Read MoreRoyal Enfield Strident Riding Gloves Review – Six-Month UpdateBy Pratik Bhanushali 4 months agoFrom city commutes to weekend rides, shoots, and every other time I have been on two wheels, the Strident riding gloves are what I use. In the past many months, these have seen sunshine, pour-down rains, and occasional washing sessions. So, I have been able to evaluate the gloves freely and can finally tell you whether you should purchase them or not. \n",
            "Read MoreAll Royal Enfield Expert ReviewsRoyal Enfield Bikes User ReviewsRoyal Enfield Hunter 350Shok to see this5 days agoKunal AroraBaby Bonneville\n",
            "Initial power delivery till 60 km/h\n",
            "Nice exhaust note\n",
            "Striking colours\n",
            "Although the headlight is halogen, the throw and spread are very good.\n",
            "Excellent paint quality of the petrol tank\n",
            "Excellent riding triangle with slightly rear-set foot pegs.\n",
            "Gears slot exactly without any jumps or missing gears.\n",
            "Amaron battery is provided as OEM fit.\n",
            "Extra fuses provided by RE in the fuse box, in case anything goes wrong with theRating Parameters(out of 5)4Visual Appeal4Reliability4Comfort4Service Experience3Value for MoneyAbout the ReviewerUsed it forToursOwned for6 months-1 yrRidden for< 5000 kmsRead MoreWas this review helpful?00315 more reviewsRoyal Enfield Continental GT 650One day1 week agoYuvrajsinhThis bike is my dream bike Right now I am not in a position to buy but one day I need to buy\n",
            "Gt I'm always waiting for you ❤️ one day really buying - jay rajputana jay maharana pratap \n",
            "Jay mataji \n",
            "Royal Enfield gt 650\n",
            "So awesome 👍 \n",
            "This bike no bike this is my emotions you don't know how much lovetRating Parameters(out of 5)5Visual Appeal5Reliability5Comfort5Service ExperienceAbout the ReviewerUsed it forEverythingOwned forNever ownedRead MoreWas this review helpful?00175 more reviewsRoyal Enfield Classic 350Royal Power 3504 days agoRajdip MiddeThis a super alrounder king machine. Royal Enfield classic 350 is  my dream bike. I don't have this bike, but a friend of mine has it. He is very lucky, he has royal Enfield 350. I don't love  my girlfriend as  much  as  I love Royal  Enfield. This is such  a  dream when I have  own  a Royal EnfieldRating Parameters(out of 5)5Visual Appeal5Reliability5Comfort5Service Experience5Value for MoneyAbout the ReviewerUsed it forEverythingOwned forNever ownedRead MoreWas this review helpful?00277 more reviewsRoyal Enfield Bullet 350RE1 week agoRaja SinghThe exhaust beat in the middle of the calm, cold and windy winter night with dense bushes and tea estates on both sides of the road,a distant how l from a wolf?!, the thrill in getting face to face with an elephan in every blind corner and riding under full moon light … Priceless . Gives me goose bumps whenever I see the picture below.Nothing worse happened , but whenever I hear a random noise from the bike I get a dreaded feel of “what if my bike stops now” ..Rating Parameters(out of 5)5Visual Appeal5Reliability5Comfort5Service Experience5Value for MoneyAbout the ReviewerUsed it forEverythingOwned for> 1 yrRidden for> 15000 kmsRead MoreWas this review helpful?0083 more reviewsRoyal Enfield Himalayan 450Rugged - Adventure Redefined5 days agoRajeev1. I have placed order in December 2023 and supposed to wait for 1.5month as there was a huge demand in this new Himalayan 450. Bike got delivered in January end.\n",
            "\n",
            "2. It was really a versatile riding experience. It is a perfect on for the person above 5.10ft. Though the weight is around 200 kg it doesn't feel like that.\n",
            "\n",
            "3. It has stunning looks. Cannot be compared with old Himalayan 411. Front wheel mudguard is catchy. The new tail lamps works as both indicator and break lights. Group clearance has been increased, so need no to worry in off-road. I have ridden in katcha roads and highways too. Felt comfortable in both roads.\n",
            "\n",
            "4. As it comes with tube tyres, frequent tyre check is mandatory. New Himalayan comes with multiple riding modes ABS, ECO. So based on it's better to switch to different riding modes. Chain cleaning is a must thing to be done for every 500Km. Make sure that any mud or dust is not stucked in the chain area especially in rainy season. I had a 1st service check for Himalayan at 500km. Overall cost was around Rs.1300.\n",
            "\n",
            "5. Pros: Well designed for long rides with comfortable seating. It is capable in handling both katcha roads, highways.\n",
            "Cons: Headlight is not sufficient. Additionally installing fog lamps is recommended. Radiator gets turn on frequently if the gear shifting is done from 3rd to 4th. It provides lot of heat.Rating Parameters(out of 5)5Visual Appeal5Reliability5Comfort5Service Experience5Value for MoneyAbout the ReviewerUsed it forDaily CommuteOwned for3-6 monthsRidden for< 5000 kmsRead MoreWas this review helpful?0030 more reviewsAll Royal Enfield User ReviewsRoyal Enfield Bikes FAQsQ: Which is the most affordable Royal Enfield bike available in India?Most economical Royal Enfield bike available in India is Hunter 350 which is priced at ₹ 1,49,900.Q: Which are the most popular Royal Enfield bikes available in India?Top Royal Enfield bikes available in India are Hunter 350, Continental GT 650 and Classic 350Q: What are the upcoming models from Royal Enfield?Royal Enfield model which is launching soon in India is Guerrilla 450Royal Enfield Bikes NewsRoyal Enfield Guerrilla 450 to be most affordable in the line-upBy Pratheek Kunder1 day agoRoyal Enfield will launch their most awaited motorcycle – the Guerrilla 450 on 17 July. The company recently revealed a set of teaser videos and pictures on various social media channels. Read MoreRoyal Enfield Gurreilla 450 first teased video released!By Anuj Mishra1 day agoThe video shows Isle of Man TT legend, Guy Martin putting the Guerrilla through its paces. Read MoreBSA Gold Star vs Royal Enfield Interceptor 650- competition check By Rishabh Bhaskar2 days agoThe BSA Gold Star India launch has been pending for quite some time but there’s finally light at the end of the tunnel for those looking to buy the bike.Read MoreRoyal Enfield Guerrilla officially revealedBy Rishabh Bhaskar2 days agoThe Royal Enfield Guerrilla has been partially revealed in the run up to its official launch.Read MoreYour weekly dose of bike updates: Triumph Daytona 660, Royal Enfield Himalayan 450, and more!By Anuj Mishra7 days agoThe Indian two-wheeler market was deprived of new launches last week. However, it still turned out to be interesting due to a bunch of spy shots gracing the internet.Read MoreRoyal Enfield Motoverse registrations openBy Pratik Bhanushali 9 days agoRoyal Enfield has commenced the registrations for its annual motorcycle festival, Motoverse 2024. The dates and venue too have been announced, and the Motoverse 2024 will be hosted on 22, 23, and 24 November at Vagator Hiltop, in Goa. Read MoreAll Royal Enfield NewsDiscontinued Royal Enfield BikesRoyal Enfield Classic Chrome|Royal Enfield Bullet Trials 500|Royal Enfield Bullet Trials 350|Royal Enfield Classic 500 Pegasus|Royal Enfield Classic Signals|Royal Enfield Thunderbird 500X|Royal Enfield Thunderbird 350X|Royal Enfield Classic Stealth Black|Royal Enfield Classic Gunmetal Grey|Royal Enfield Classic Squadron Blue|Royal Enfield Himalayan [2015-2023]|Royal Enfield Electra Twinspark|Royal Enfield Electra 5 S|Royal Enfield Electra 4 S|Royal Enfield Bullet 350 [2007-2011]|Royal Enfield Classic 500|Royal Enfield Classic Desert Storm|Royal Enfield Superstar|Royal Enfield Mini Bullet|Royal Enfield Lightning|Royal Enfield Crusader|Royal Enfield Electra [1995-1997]|Royal Enfield Continental GT [2013 - 2018]|Royal Enfield Bullet 500|Royal Enfield Thunderbird 350|Royal Enfield Thunderbird 500|Royal Enfield Thunderbird Twinspark|Royal Enfield Machismo|Royal Enfield Bullet 350 [2012-2023]|Royal Enfield Classic 350 [2020]View MoreADRoyal Enfield Bikes ShowroomsShow Dealer/Store results forAll India33 Royal EnfieldShowrooms in Bangalore32 Royal EnfieldShowrooms in Hyderabad29 Royal EnfieldShowrooms in Chennai28 Royal EnfieldShowrooms in Delhi24 Royal EnfieldShowrooms in Pune16 Royal EnfieldShowrooms in Mumbai12 Royal EnfieldShowrooms in Kolkata8 Royal EnfieldShowrooms in LucknowAll Royal Enfield DealersADBrands Similar to Royal EnfieldYamaha12 BikesKTM10 BikesJawa4 BikesHusqvarna4 BikesKeeway8 BikesHonda23 BikesHero23 BikesBajaj23 BikesTVS20 BikesView More BrandsADResearch MoreRoyal Enfield Service CentersTop 10 BikesADHomeRoyal EnfieldHomeNew BikesFind New BikesCompare BikesCheck On-Road PriceLocate ShowroomsUpcoming BikesNew LaunchesNew ScootersFind New ScootersElectric ScootersUpcoming ScootersElectric BikesBike LoanUsed BikesSell BikesList BikeView My ListingsReviewsNews, Videos & TipsNewsExpert ReviewsEMI CalculatorLoginChoose Language / भाषा चुनेंDownload Mobile AppBikeWale Android AppBikeWale Android AppAbout UsDownload Mobile AppConnect with us© BikeWale India.Visitor Agreement  & Privacy Policy\n",
            "\n",
            "\n",
            "\n",
            "\n",
            "\n",
            "\n",
            "\n",
            "\n",
            "\n",
            "\n",
            "\n",
            "\n",
            "\n",
            "\n",
            "\n",
            "\n",
            "\n",
            "\n",
            "\n",
            "\n",
            "\n",
            "\n",
            "\n",
            "\n",
            "\n",
            "\n",
            "\n",
            "\n",
            "\n",
            "\n",
            "\n",
            "\n",
            "\n",
            "\n",
            "\n",
            "\n",
            "\n",
            "\n",
            "\n",
            "\n",
            "\n",
            "\n",
            "\n",
            "\n",
            "\n",
            "\n",
            "\n",
            "\n"
          ]
        }
      ]
    },
    {
      "cell_type": "code",
      "source": [
        "images=soup.find_all('img')"
      ],
      "metadata": {
        "id": "DzWdvnMK-eZs"
      },
      "execution_count": 19,
      "outputs": []
    },
    {
      "cell_type": "code",
      "source": [
        "print(images)"
      ],
      "metadata": {
        "colab": {
          "base_uri": "https://localhost:8080/"
        },
        "id": "SlX17YXm-n9V",
        "outputId": "6ca20fb9-8abc-4433-d4bf-93403669902a"
      },
      "execution_count": 20,
      "outputs": [
        {
          "output_type": "stream",
          "name": "stdout",
          "text": [
            "[<img alt=\"facebook\" height=\"1\" src=\"https://www.facebook.com/tr?id=904915516356416&amp;ev=PageView&amp;noscript=1\" width=\"1\"/>, <img alt=\"Royal Enfield Hunter 350\" class=\"o-bXKmQE o-cgkaRG o-cQfblS o-bNxxEB o-pGqQl o-wBtSi o-bwUciP o-btTZkL o-bfyaNx o-eAZqQI\" src=\"https://imgd.aeplcdn.com/227x128/n/cw/ec/124013/hunter-350-right-side-view-5.png?isig=0&amp;q=80\" title=\"Royal Enfield Hunter 350\"/>, <img alt=\"Royal Enfield Continental GT 650\" class=\"o-bXKmQE o-cgkaRG o-cQfblS o-bNxxEB o-pGqQl o-wBtSi o-bwUciP o-btTZkL o-bfyaNx o-eAZqQI\" src=\"https://imgd.aeplcdn.com/227x128/n/cw/ec/49656/continental-gt-right-side-view-12.png?isig=0&amp;q=80\" title=\"Royal Enfield Continental GT 650\"/>, <img alt=\"Royal Enfield Classic 350\" class=\"o-bXKmQE o-cgkaRG o-cQfblS o-bNxxEB o-pGqQl o-wBtSi o-bwUciP o-btTZkL o-bfyaNx o-eAZqQI\" src=\"https://imgd.aeplcdn.com/227x128/n/cw/ec/101487/classic-350-right-side-view-20.png?isig=0&amp;q=80\" title=\"Royal Enfield Classic 350\"/>, <img alt=\"Royal Enfield Bullet 350\" class=\"o-bXKmQE o-cgkaRG o-cQfblS o-bNxxEB o-pGqQl o-wBtSi o-bwUciP o-btTZkL o-bfyaNx o-eAZqQI\" data-src=\"https://imgd.aeplcdn.com/227x128/n/cw/ec/127499/bullet-right-side-view-13.png?isig=0&amp;q=80\" src=\"https://imgd.aeplcdn.com/0x0/statics/grey-16x9.svg\" title=\"Royal Enfield Bullet 350\"/>, <img alt=\"Royal Enfield Himalayan 450\" class=\"o-bXKmQE o-cgkaRG o-cQfblS o-bNxxEB o-pGqQl o-wBtSi o-bwUciP o-btTZkL o-bfyaNx o-eAZqQI\" data-src=\"https://imgd.aeplcdn.com/227x128/n/cw/ec/110431/himalayan-right-side-view-6.png?isig=0&amp;q=80\" src=\"https://imgd.aeplcdn.com/0x0/statics/grey-16x9.svg\" title=\"Royal Enfield Himalayan 450\"/>, <img alt=\"Royal Enfield Meteor 350\" class=\"o-bXKmQE o-cgkaRG o-cQfblS o-bNxxEB o-pGqQl o-wBtSi o-bwUciP o-btTZkL o-bfyaNx o-eAZqQI\" data-src=\"https://imgd.aeplcdn.com/227x128/n/cw/ec/51245/meteor-350-right-side-view-10.png?isig=0&amp;q=80\" src=\"https://imgd.aeplcdn.com/0x0/statics/grey-16x9.svg\" title=\"Royal Enfield Meteor 350\"/>, <img alt=\"Royal Enfield Shotgun 650\" class=\"o-bXKmQE o-cgkaRG o-cQfblS o-bNxxEB o-pGqQl o-wBtSi o-bwUciP o-btTZkL o-bfyaNx o-eAZqQI\" data-src=\"https://imgd.aeplcdn.com/227x128/n/cw/ec/165367/shotgun-650-right-side-view-4.png?isig=0&amp;q=80\" src=\"https://imgd.aeplcdn.com/0x0/statics/grey-16x9.svg\" title=\"Royal Enfield Shotgun 650\"/>, <img alt=\"Royal Enfield Super Meteor 650\" class=\"o-bXKmQE o-cgkaRG o-cQfblS o-bNxxEB o-pGqQl o-wBtSi o-bwUciP o-btTZkL o-bfyaNx o-eAZqQI\" data-src=\"https://imgd.aeplcdn.com/227x128/n/cw/ec/108885/super-meteor-650-right-side-view-6.png?isig=0&amp;q=80\" src=\"https://imgd.aeplcdn.com/0x0/statics/grey-16x9.svg\" title=\"Royal Enfield Super Meteor 650\"/>, <img alt=\"Royal Enfield Interceptor 650\" class=\"o-bXKmQE o-cgkaRG o-cQfblS o-bNxxEB o-pGqQl o-wBtSi o-bwUciP o-btTZkL o-bfyaNx o-eAZqQI\" data-src=\"https://imgd.aeplcdn.com/227x128/n/cw/ec/49657/interceptor-right-side-view-13.png?isig=0&amp;q=80\" src=\"https://imgd.aeplcdn.com/0x0/statics/grey-16x9.svg\" title=\"Royal Enfield Interceptor 650\"/>, <img alt=\"Royal Enfield Scram 411\" class=\"o-bXKmQE o-cgkaRG o-cQfblS o-bNxxEB o-pGqQl o-wBtSi o-bwUciP o-btTZkL o-bfyaNx o-eAZqQI\" data-src=\"https://imgd.aeplcdn.com/227x128/n/cw/ec/99489/scram-411-right-side-view-13.png?isig=0&amp;q=80\" src=\"https://imgd.aeplcdn.com/0x0/statics/grey-16x9.svg\" title=\"Royal Enfield Scram 411\"/>, <img alt=\"Royal Enfield Guerrilla 450\" class=\"o-bXKmQE o-cgkaRG o-cQfblS o-bNxxEB o-pGqQl o-wBtSi o-bwUciP o-btTZkL o-bfyaNx o-eAZqQI\" data-src=\"https://imgd.aeplcdn.com/227x128/n/cw/ec/138829/guerrilla-450-right-side-view-3.jpeg?isig=0&amp;q=80\" src=\"https://imgd.aeplcdn.com/0x0/statics/grey-16x9.svg\" title=\"Royal Enfield Guerrilla 450\"/>, <img alt=\"Royal Enfield Classic 350 Bobber\" class=\"o-bXKmQE o-cgkaRG o-cQfblS o-bNxxEB o-pGqQl o-wBtSi o-bwUciP o-btTZkL o-bfyaNx o-eAZqQI\" data-src=\"https://imgd.aeplcdn.com/227x128/n/cw/ec/151461/classic-350-bobber-left-side-view.png?isig=0&amp;q=80\" src=\"https://imgd.aeplcdn.com/0x0/statics/grey-16x9.svg\" title=\"Royal Enfield Classic 350 Bobber\"/>, <img alt=\"Royal Enfield Scrambler 650\" class=\"o-bXKmQE o-cgkaRG o-cQfblS o-bNxxEB o-pGqQl o-wBtSi o-bwUciP o-btTZkL o-bfyaNx o-eAZqQI\" data-src=\"https://imgd.aeplcdn.com/227x128/n/cw/ec/138795/sherpa-650-right-rear-three-quarter.jpeg?isig=0&amp;q=80\" src=\"https://imgd.aeplcdn.com/0x0/statics/grey-16x9.svg\" title=\"Royal Enfield Scrambler 650\"/>, <img alt=\"Royal Enfield Himalayan 650\" class=\"o-bXKmQE o-cgkaRG o-cQfblS o-bNxxEB o-pGqQl o-wBtSi o-bwUciP o-btTZkL o-bfyaNx o-eAZqQI\" data-src=\"https://imgd.aeplcdn.com/227x128/n/cw/ec/106133/right-side-view.jpeg?isig=0&amp;q=80\" src=\"https://imgd.aeplcdn.com/0x0/statics/grey-16x9.svg\" title=\"Royal Enfield Himalayan 650\"/>, <img alt=\"Royal Enfield Scrambler 450\" class=\"o-bXKmQE o-cgkaRG o-cQfblS o-bNxxEB o-pGqQl o-wBtSi o-bwUciP o-btTZkL o-bfyaNx o-eAZqQI\" data-src=\"https://imgd.aeplcdn.com/227x128/n/cw/ec/138831/scrambler-450-right-side-view.jpeg?isig=0&amp;q=80\" src=\"https://imgd.aeplcdn.com/0x0/statics/grey-16x9.svg\" title=\"Royal Enfield Scrambler 450\"/>, <img alt=\"Royal Enfield Continental GT 450\" class=\"o-bXKmQE o-cgkaRG o-cQfblS o-bNxxEB o-pGqQl o-wBtSi o-bwUciP o-btTZkL o-bfyaNx o-eAZqQI\" data-src=\"https://imgd.aeplcdn.com/227x128/n/cw/ec/138835/continental-gt-450-right-front-three-quarter.jpeg?isig=0&amp;q=80\" src=\"https://imgd.aeplcdn.com/0x0/statics/grey-16x9.svg\" title=\"Royal Enfield Continental GT 450\"/>, <img alt=\"Royal Enfield Bullet 650\" class=\"o-bXKmQE o-cgkaRG o-cQfblS o-bNxxEB o-pGqQl o-wBtSi o-bwUciP o-btTZkL o-bfyaNx o-eAZqQI\" data-src=\"https://imgd.aeplcdn.com/227x128/n/cw/ec/138839/bullet-650-right-front-three-quarter.jpeg?isig=0&amp;q=80\" src=\"https://imgd.aeplcdn.com/0x0/statics/grey-16x9.svg\" title=\"Royal Enfield Bullet 650\"/>, <img alt=\"Royal Enfield Himalayan Electric\" class=\"o-bXKmQE o-cgkaRG o-cQfblS o-bNxxEB o-pGqQl o-wBtSi o-bwUciP o-btTZkL o-bfyaNx o-eAZqQI\" data-src=\"https://imgd.aeplcdn.com/227x128/n/cw/ec/146033/himalayan-electric-right-front-three-quarter.png?isig=0&amp;q=80\" src=\"https://imgd.aeplcdn.com/0x0/statics/grey-16x9.svg\" title=\"Royal Enfield Himalayan Electric\"/>, <img alt=\"Royal Enfield Classic 650\" class=\"o-bXKmQE o-cgkaRG o-cQfblS o-bNxxEB o-pGqQl o-wBtSi o-bwUciP o-btTZkL o-bfyaNx o-eAZqQI\" data-src=\"https://imgd.aeplcdn.com/227x128/n/cw/ec/138841/classic-650-right-front-three-quarter.jpeg?isig=0&amp;q=80\" src=\"https://imgd.aeplcdn.com/0x0/statics/grey-16x9.svg\" title=\"Royal Enfield Classic 650\"/>, <img alt=\"Royal Enfield Hunter 350\" class=\"o-bXKmQE o-cgkaRG o-cQfblS o-bNxxEB o-pGqQl o-wBtSi o-bwUciP o-btTZkL o-bfyaNx o-eAZqQI\" data-src=\"https://imgd.aeplcdn.com/227x128/n/cw/ec/124013/hunter-350-right-side-view-5.png?isig=0&amp;q=80\" src=\"https://imgd.aeplcdn.com/0x0/statics/grey-16x9.svg\" title=\"Royal Enfield Hunter 350\"/>, <img alt=\"TVS Ronin\" class=\"o-bXKmQE o-cgkaRG o-cQfblS o-bNxxEB o-pGqQl o-wBtSi o-bwUciP o-btTZkL o-bfyaNx o-eAZqQI\" data-src=\"https://imgd.aeplcdn.com/227x128/n/cw/ec/124775/ronin-right-side-view-7.png?isig=0&amp;q=80\" src=\"https://imgd.aeplcdn.com/0x0/statics/grey-16x9.svg\" title=\"TVS Ronin\"/>, <img alt=\"Royal Enfield Continental GT 650\" class=\"o-bXKmQE o-cgkaRG o-cQfblS o-bNxxEB o-pGqQl o-wBtSi o-bwUciP o-btTZkL o-bfyaNx o-eAZqQI\" data-src=\"https://imgd.aeplcdn.com/227x128/n/cw/ec/49656/continental-gt-right-side-view-12.png?isig=0&amp;q=80\" src=\"https://imgd.aeplcdn.com/0x0/statics/grey-16x9.svg\" title=\"Royal Enfield Continental GT 650\"/>, <img alt=\"Royal Enfield Interceptor 650\" class=\"o-bXKmQE o-cgkaRG o-cQfblS o-bNxxEB o-pGqQl o-wBtSi o-bwUciP o-btTZkL o-bfyaNx o-eAZqQI\" data-src=\"https://imgd.aeplcdn.com/227x128/n/cw/ec/49657/interceptor-right-side-view-13.png?isig=0&amp;q=80\" src=\"https://imgd.aeplcdn.com/0x0/statics/grey-16x9.svg\" title=\"Royal Enfield Interceptor 650\"/>, <img alt=\"Royal Enfield Classic 350\" class=\"o-bXKmQE o-cgkaRG o-cQfblS o-bNxxEB o-pGqQl o-wBtSi o-bwUciP o-btTZkL o-bfyaNx o-eAZqQI\" data-src=\"https://imgd.aeplcdn.com/227x128/n/cw/ec/101487/classic-350-right-side-view-20.png?isig=0&amp;q=80\" src=\"https://imgd.aeplcdn.com/0x0/statics/grey-16x9.svg\" title=\"Royal Enfield Classic 350\"/>, <img alt=\"Royal Enfield Bullet 350\" class=\"o-bXKmQE o-cgkaRG o-cQfblS o-bNxxEB o-pGqQl o-wBtSi o-bwUciP o-btTZkL o-bfyaNx o-eAZqQI\" data-src=\"https://imgd.aeplcdn.com/227x128/n/cw/ec/127499/bullet-right-side-view-13.png?isig=0&amp;q=80\" src=\"https://imgd.aeplcdn.com/0x0/statics/grey-16x9.svg\" title=\"Royal Enfield Bullet 350\"/>, <img alt=\"Royal Enfield Bullet 350\" class=\"o-bXKmQE o-cgkaRG o-cQfblS o-bNxxEB o-pGqQl o-wBtSi o-bwUciP o-btTZkL o-bfyaNx o-eAZqQI\" data-src=\"https://imgd.aeplcdn.com/227x128/n/cw/ec/127499/bullet-right-side-view-13.png?isig=0&amp;q=80\" src=\"https://imgd.aeplcdn.com/0x0/statics/grey-16x9.svg\" title=\"Royal Enfield Bullet 350\"/>, <img alt=\"Royal Enfield Hunter 350\" class=\"o-bXKmQE o-cgkaRG o-cQfblS o-bNxxEB o-pGqQl o-wBtSi o-bwUciP o-btTZkL o-bfyaNx o-eAZqQI\" data-src=\"https://imgd.aeplcdn.com/227x128/n/cw/ec/124013/hunter-350-right-side-view-5.png?isig=0&amp;q=80\" src=\"https://imgd.aeplcdn.com/0x0/statics/grey-16x9.svg\" title=\"Royal Enfield Hunter 350\"/>, <img alt=\"Royal Enfield Himalayan 450\" class=\"o-bXKmQE o-cgkaRG o-cQfblS o-bNxxEB o-pGqQl o-wBtSi o-bwUciP o-btTZkL o-bfyaNx o-eAZqQI\" data-src=\"https://imgd.aeplcdn.com/227x128/n/cw/ec/110431/himalayan-right-side-view-6.png?isig=0&amp;q=80\" src=\"https://imgd.aeplcdn.com/0x0/statics/grey-16x9.svg\" title=\"Royal Enfield Himalayan 450\"/>, <img alt=\"KTM 390 Adventure X\" class=\"o-bXKmQE o-cgkaRG o-cQfblS o-bNxxEB o-pGqQl o-wBtSi o-bwUciP o-btTZkL o-bfyaNx o-eAZqQI\" data-src=\"https://imgd.aeplcdn.com/227x128/n/cw/ec/140973/390-adventure-x-right-side-view-2.png?isig=0&amp;q=80\" src=\"https://imgd.aeplcdn.com/0x0/statics/grey-16x9.svg\" title=\"KTM 390 Adventure X\"/>, <img alt=\"Royal Enfield Meteor 350\" class=\"o-bXKmQE o-cgkaRG o-cQfblS o-bNxxEB o-pGqQl o-wBtSi o-bwUciP o-btTZkL o-bfyaNx o-eAZqQI\" data-src=\"https://imgd.aeplcdn.com/227x128/n/cw/ec/51245/meteor-350-right-side-view-10.png?isig=0&amp;q=80\" src=\"https://imgd.aeplcdn.com/0x0/statics/grey-16x9.svg\" title=\"Royal Enfield Meteor 350\"/>, <img alt=\"Honda CB350\" class=\"o-bXKmQE o-cgkaRG o-cQfblS o-bNxxEB o-pGqQl o-wBtSi o-bwUciP o-btTZkL o-bfyaNx o-eAZqQI\" data-src=\"https://imgd.aeplcdn.com/227x128/n/cw/ec/164985/cb350-right-side-view-6.png?isig=0&amp;q=80\" src=\"https://imgd.aeplcdn.com/0x0/statics/grey-16x9.svg\" title=\"Honda CB350\"/>, <img alt=\"Royal Enfield Shotgun 650\" class=\"o-bXKmQE o-cgkaRG o-cQfblS o-bNxxEB o-pGqQl o-wBtSi o-bwUciP o-btTZkL o-bfyaNx o-eAZqQI\" data-src=\"https://imgd.aeplcdn.com/227x128/n/cw/ec/165367/shotgun-650-right-side-view-4.png?isig=0&amp;q=80\" src=\"https://imgd.aeplcdn.com/0x0/statics/grey-16x9.svg\" title=\"Royal Enfield Shotgun 650\"/>, <img alt=\"Royal Enfield Super Meteor 650\" class=\"o-bXKmQE o-cgkaRG o-cQfblS o-bNxxEB o-pGqQl o-wBtSi o-bwUciP o-btTZkL o-bfyaNx o-eAZqQI\" data-src=\"https://imgd.aeplcdn.com/227x128/n/cw/ec/108885/super-meteor-650-right-side-view-6.png?isig=0&amp;q=80\" src=\"https://imgd.aeplcdn.com/0x0/statics/grey-16x9.svg\" title=\"Royal Enfield Super Meteor 650\"/>, <img alt=\"Royal Enfield Super Meteor 650\" class=\"o-bXKmQE o-cgkaRG o-cQfblS o-bNxxEB o-pGqQl o-wBtSi o-bwUciP o-btTZkL o-bfyaNx o-eAZqQI\" data-src=\"https://imgd.aeplcdn.com/227x128/n/cw/ec/108885/super-meteor-650-right-side-view-6.png?isig=0&amp;q=80\" src=\"https://imgd.aeplcdn.com/0x0/statics/grey-16x9.svg\" title=\"Royal Enfield Super Meteor 650\"/>, <img alt=\"Royal Enfield Interceptor 650\" class=\"o-bXKmQE o-cgkaRG o-cQfblS o-bNxxEB o-pGqQl o-wBtSi o-bwUciP o-btTZkL o-bfyaNx o-eAZqQI\" data-src=\"https://imgd.aeplcdn.com/227x128/n/cw/ec/49657/interceptor-right-side-view-13.png?isig=0&amp;q=80\" src=\"https://imgd.aeplcdn.com/0x0/statics/grey-16x9.svg\" title=\"Royal Enfield Interceptor 650\"/>, <img alt=\"Royal Enfield Interceptor 650\" class=\"o-bXKmQE o-cgkaRG o-cQfblS o-bNxxEB o-pGqQl o-wBtSi o-bwUciP o-btTZkL o-bfyaNx o-eAZqQI\" data-src=\"https://imgd.aeplcdn.com/227x128/n/cw/ec/49657/interceptor-right-side-view-13.png?isig=0&amp;q=80\" src=\"https://imgd.aeplcdn.com/0x0/statics/grey-16x9.svg\" title=\"Royal Enfield Interceptor 650\"/>, <img alt=\"Royal Enfield Shotgun 650\" class=\"o-bXKmQE o-cgkaRG o-cQfblS o-bNxxEB o-pGqQl o-wBtSi o-bwUciP o-btTZkL o-bfyaNx o-eAZqQI\" data-src=\"https://imgd.aeplcdn.com/227x128/n/cw/ec/165367/shotgun-650-right-side-view-4.png?isig=0&amp;q=80\" src=\"https://imgd.aeplcdn.com/0x0/statics/grey-16x9.svg\" title=\"Royal Enfield Shotgun 650\"/>, <img alt=\"Hunter 350 Image\" class=\"o-bXKmQE o-cgkaRG o-cQfblS o-bNxxEB o-pGqQl o-wBtSi o-bwUciP o-btTZkL o-bfyaNx o-eAZqQI\" data-src=\"https://imgd.aeplcdn.com/211x211/n/cw/ec/124013/hunter-350-right-front-three-quarter.jpeg?isig=0&amp;q=80\" src=\"https://imgd.aeplcdn.com/0x0/statics/grey-1x1.svg\" title=\"Hunter 350 Image\"/>, <img alt=\"Hunter 350 Image\" class=\"o-bXKmQE o-cgkaRG o-cQfblS o-bNxxEB o-pGqQl o-wBtSi o-bwUciP o-btTZkL o-bfyaNx o-eAZqQI\" data-src=\"https://imgd.aeplcdn.com/211x211/n/cw/ec/124013/hunter-350-right-front-three-quarter.jpeg?isig=0&amp;q=80\" src=\"https://imgd.aeplcdn.com/0x0/statics/grey-1x1.svg\" title=\"Hunter 350 Image\"/>, <img alt=\"Hunter 350 Image\" class=\"o-bXKmQE o-cgkaRG o-cQfblS o-bNxxEB o-pGqQl o-wBtSi o-bwUciP o-btTZkL o-bfyaNx o-eAZqQI\" data-src=\"https://imgd.aeplcdn.com/211x211/n/cw/ec/124013/hunter-350-right-side-view-2.png?isig=0&amp;q=80\" src=\"https://imgd.aeplcdn.com/0x0/statics/grey-1x1.svg\" title=\"Hunter 350 Image\"/>, <img alt=\"Hunter 350 Image\" class=\"o-bXKmQE o-cgkaRG o-cQfblS o-bNxxEB o-pGqQl o-wBtSi o-bwUciP o-btTZkL o-bfyaNx o-eAZqQI\" data-src=\"https://imgd.aeplcdn.com/211x211/n/cw/ec/124013/hunter-350-right-side-view-2.png?isig=0&amp;q=80\" src=\"https://imgd.aeplcdn.com/0x0/statics/grey-1x1.svg\" title=\"Hunter 350 Image\"/>, <img alt=\"Hunter 350 Image\" class=\"o-bXKmQE o-cgkaRG o-cQfblS o-bNxxEB o-pGqQl o-wBtSi o-bwUciP o-btTZkL o-bfyaNx o-eAZqQI\" data-src=\"https://imgd.aeplcdn.com/211x211/n/cw/ec/124013/hunter-350-right-side-view-3.jpeg?isig=0&amp;q=80\" src=\"https://imgd.aeplcdn.com/0x0/statics/grey-1x1.svg\" title=\"Hunter 350 Image\"/>, <img alt=\"Hunter 350 Image\" class=\"o-bXKmQE o-cgkaRG o-cQfblS o-bNxxEB o-pGqQl o-wBtSi o-bwUciP o-btTZkL o-bfyaNx o-eAZqQI\" data-src=\"https://imgd.aeplcdn.com/211x211/n/cw/ec/124013/hunter-350-right-side-view-3.jpeg?isig=0&amp;q=80\" src=\"https://imgd.aeplcdn.com/0x0/statics/grey-1x1.svg\" title=\"Hunter 350 Image\"/>, <img alt=\"Continental GT 650 Image\" class=\"o-bXKmQE o-cgkaRG o-cQfblS o-bNxxEB o-pGqQl o-wBtSi o-bwUciP o-btTZkL o-bfyaNx o-eAZqQI\" data-src=\"https://imgd.aeplcdn.com/211x211/n/cw/ec/49656/continental-gt-right-front-three-quarter-6.jpeg?isig=0&amp;q=80\" src=\"https://imgd.aeplcdn.com/0x0/statics/grey-1x1.svg\" title=\"Continental GT 650 Image\"/>, <img alt=\"Continental GT 650 Image\" class=\"o-bXKmQE o-cgkaRG o-cQfblS o-bNxxEB o-pGqQl o-wBtSi o-bwUciP o-btTZkL o-bfyaNx o-eAZqQI\" data-src=\"https://imgd.aeplcdn.com/211x211/n/cw/ec/49656/continental-gt-right-front-three-quarter-6.jpeg?isig=0&amp;q=80\" src=\"https://imgd.aeplcdn.com/0x0/statics/grey-1x1.svg\" title=\"Continental GT 650 Image\"/>, <img alt=\"Continental GT 650 Image\" class=\"o-bXKmQE o-cgkaRG o-cQfblS o-bNxxEB o-pGqQl o-wBtSi o-bwUciP o-btTZkL o-bfyaNx o-eAZqQI\" data-src=\"https://imgd.aeplcdn.com/211x211/n/cw/ec/49656/continental-gt-right-front-three-quarter-6.jpeg?isig=0&amp;q=80\" src=\"https://imgd.aeplcdn.com/0x0/statics/grey-1x1.svg\" title=\"Continental GT 650 Image\"/>, <img alt=\"Continental GT 650 Image\" class=\"o-bXKmQE o-cgkaRG o-cQfblS o-bNxxEB o-pGqQl o-wBtSi o-bwUciP o-btTZkL o-bfyaNx o-eAZqQI\" data-src=\"https://imgd.aeplcdn.com/211x211/n/cw/ec/49656/continental-gt-right-front-three-quarter-6.jpeg?isig=0&amp;q=80\" src=\"https://imgd.aeplcdn.com/0x0/statics/grey-1x1.svg\" title=\"Continental GT 650 Image\"/>, <img alt=\"Continental GT 650 Image\" class=\"o-bXKmQE o-cgkaRG o-cQfblS o-bNxxEB o-pGqQl o-wBtSi o-bwUciP o-btTZkL o-bfyaNx o-eAZqQI\" data-src=\"https://imgd.aeplcdn.com/211x211/n/cw/ec/49656/continental-gt-right-front-three-quarter-2.png?isig=0&amp;q=80\" src=\"https://imgd.aeplcdn.com/0x0/statics/grey-1x1.svg\" title=\"Continental GT 650 Image\"/>, <img alt=\"Continental GT 650 Image\" class=\"o-bXKmQE o-cgkaRG o-cQfblS o-bNxxEB o-pGqQl o-wBtSi o-bwUciP o-btTZkL o-bfyaNx o-eAZqQI\" data-src=\"https://imgd.aeplcdn.com/211x211/n/cw/ec/49656/continental-gt-right-front-three-quarter-2.png?isig=0&amp;q=80\" src=\"https://imgd.aeplcdn.com/0x0/statics/grey-1x1.svg\" title=\"Continental GT 650 Image\"/>, <img alt=\"Classic 350 Image\" class=\"o-bXKmQE o-cgkaRG o-cQfblS o-bNxxEB o-pGqQl o-wBtSi o-bwUciP o-btTZkL o-bfyaNx o-eAZqQI\" data-src=\"https://imgd.aeplcdn.com/211x211/n/cw/ec/101487/classic-350-2021-right-front-three-quarter-4.jpeg?isig=0&amp;q=80\" src=\"https://imgd.aeplcdn.com/0x0/statics/grey-1x1.svg\" title=\"Classic 350 Image\"/>, <img alt=\"Classic 350 Image\" class=\"o-bXKmQE o-cgkaRG o-cQfblS o-bNxxEB o-pGqQl o-wBtSi o-bwUciP o-btTZkL o-bfyaNx o-eAZqQI\" data-src=\"https://imgd.aeplcdn.com/211x211/n/cw/ec/101487/classic-350-2021-right-front-three-quarter.jpeg?isig=0&amp;q=80\" src=\"https://imgd.aeplcdn.com/0x0/statics/grey-1x1.svg\" title=\"Classic 350 Image\"/>, <img alt=\"Classic 350 Image\" class=\"o-bXKmQE o-cgkaRG o-cQfblS o-bNxxEB o-pGqQl o-wBtSi o-bwUciP o-btTZkL o-bfyaNx o-eAZqQI\" data-src=\"https://imgd.aeplcdn.com/211x211/n/cw/ec/101487/classic-350-right-front-three-quarter-6.jpeg?isig=0&amp;q=80\" src=\"https://imgd.aeplcdn.com/0x0/statics/grey-1x1.svg\" title=\"Classic 350 Image\"/>, <img alt=\"Classic 350 Image\" class=\"o-bXKmQE o-cgkaRG o-cQfblS o-bNxxEB o-pGqQl o-wBtSi o-bwUciP o-btTZkL o-bfyaNx o-eAZqQI\" data-src=\"https://imgd.aeplcdn.com/211x211/n/cw/ec/101487/classic-350-2021-right-side-view-2.jpeg?isig=0&amp;q=80\" src=\"https://imgd.aeplcdn.com/0x0/statics/grey-1x1.svg\" title=\"Classic 350 Image\"/>, <img alt=\"Classic 350 Image\" class=\"o-bXKmQE o-cgkaRG o-cQfblS o-bNxxEB o-pGqQl o-wBtSi o-bwUciP o-btTZkL o-bfyaNx o-eAZqQI\" data-src=\"https://imgd.aeplcdn.com/211x211/n/cw/ec/101487/classic-350-2021-right-side-view-3.jpeg?isig=0&amp;q=80\" src=\"https://imgd.aeplcdn.com/0x0/statics/grey-1x1.svg\" title=\"Classic 350 Image\"/>, <img alt=\"Classic 350 Image\" class=\"o-bXKmQE o-cgkaRG o-cQfblS o-bNxxEB o-pGqQl o-wBtSi o-bwUciP o-btTZkL o-bfyaNx o-eAZqQI\" data-src=\"https://imgd.aeplcdn.com/211x211/n/cw/ec/101487/classic-350-2021-right-side-view-10.jpeg?isig=0&amp;q=80\" src=\"https://imgd.aeplcdn.com/0x0/statics/grey-1x1.svg\" title=\"Classic 350 Image\"/>, <img alt=\"Bullet 350 Image\" class=\"o-bXKmQE o-cgkaRG o-cQfblS o-bNxxEB o-pGqQl o-wBtSi o-bwUciP o-btTZkL o-bfyaNx o-eAZqQI\" data-src=\"https://imgd.aeplcdn.com/211x211/n/cw/ec/127499/bullet-right-side-view-12.jpeg?isig=0&amp;q=80\" src=\"https://imgd.aeplcdn.com/0x0/statics/grey-1x1.svg\" title=\"Bullet 350 Image\"/>, <img alt=\"Bullet 350 Image\" class=\"o-bXKmQE o-cgkaRG o-cQfblS o-bNxxEB o-pGqQl o-wBtSi o-bwUciP o-btTZkL o-bfyaNx o-eAZqQI\" data-src=\"https://imgd.aeplcdn.com/211x211/n/cw/ec/127499/bullet-right-side-view-12.jpeg?isig=0&amp;q=80\" src=\"https://imgd.aeplcdn.com/0x0/statics/grey-1x1.svg\" title=\"Bullet 350 Image\"/>, <img alt=\"Bullet 350 Image\" class=\"o-bXKmQE o-cgkaRG o-cQfblS o-bNxxEB o-pGqQl o-wBtSi o-bwUciP o-btTZkL o-bfyaNx o-eAZqQI\" data-src=\"https://imgd.aeplcdn.com/211x211/n/cw/ec/127499/bullet-right-side-view-12.jpeg?isig=0&amp;q=80\" src=\"https://imgd.aeplcdn.com/0x0/statics/grey-1x1.svg\" title=\"Bullet 350 Image\"/>, <img alt=\"Bullet 350 Image\" class=\"o-bXKmQE o-cgkaRG o-cQfblS o-bNxxEB o-pGqQl o-wBtSi o-bwUciP o-btTZkL o-bfyaNx o-eAZqQI\" data-src=\"https://imgd.aeplcdn.com/211x211/n/cw/ec/127499/bullet-right-front-three-quarter-3.jpeg?isig=0&amp;q=80\" src=\"https://imgd.aeplcdn.com/0x0/statics/grey-1x1.svg\" title=\"Bullet 350 Image\"/>, <img alt=\"Bullet 350 Image\" class=\"o-bXKmQE o-cgkaRG o-cQfblS o-bNxxEB o-pGqQl o-wBtSi o-bwUciP o-btTZkL o-bfyaNx o-eAZqQI\" data-src=\"https://imgd.aeplcdn.com/211x211/n/cw/ec/127499/bullet-right-front-three-quarter-3.jpeg?isig=0&amp;q=80\" src=\"https://imgd.aeplcdn.com/0x0/statics/grey-1x1.svg\" title=\"Bullet 350 Image\"/>, <img alt=\"Bullet 350 Image\" class=\"o-bXKmQE o-cgkaRG o-cQfblS o-bNxxEB o-pGqQl o-wBtSi o-bwUciP o-btTZkL o-bfyaNx o-eAZqQI\" data-src=\"https://imgd.aeplcdn.com/211x211/n/cw/ec/127499/bullet-right-front-three-quarter-3.jpeg?isig=0&amp;q=80\" src=\"https://imgd.aeplcdn.com/0x0/statics/grey-1x1.svg\" title=\"Bullet 350 Image\"/>, <img alt=\"Himalayan 450 Image\" class=\"o-bXKmQE o-cgkaRG o-cQfblS o-bNxxEB o-pGqQl o-wBtSi o-bwUciP o-btTZkL o-bfyaNx o-eAZqQI\" data-src=\"https://imgd.aeplcdn.com/211x211/n/cw/ec/110431/himalayan-450-right-front-three-quarter-8.jpeg?isig=0&amp;q=80\" src=\"https://imgd.aeplcdn.com/0x0/statics/grey-1x1.svg\" title=\"Himalayan 450 Image\"/>, <img alt=\"Himalayan 450 Image\" class=\"o-bXKmQE o-cgkaRG o-cQfblS o-bNxxEB o-pGqQl o-wBtSi o-bwUciP o-btTZkL o-bfyaNx o-eAZqQI\" data-src=\"https://imgd.aeplcdn.com/211x211/n/cw/ec/110431/himalayan-452-right-front-three-quarter-6.png?isig=0&amp;q=80\" src=\"https://imgd.aeplcdn.com/0x0/statics/grey-1x1.svg\" title=\"Himalayan 450 Image\"/>, <img alt=\"Himalayan 450 Image\" class=\"o-bXKmQE o-cgkaRG o-cQfblS o-bNxxEB o-pGqQl o-wBtSi o-bwUciP o-btTZkL o-bfyaNx o-eAZqQI\" data-src=\"https://imgd.aeplcdn.com/211x211/n/cw/ec/110431/himalayan-452-right-front-three-quarter-4.jpeg?isig=0&amp;q=80\" src=\"https://imgd.aeplcdn.com/0x0/statics/grey-1x1.svg\" title=\"Himalayan 450 Image\"/>, <img alt=\"Himalayan 450 Image\" class=\"o-bXKmQE o-cgkaRG o-cQfblS o-bNxxEB o-pGqQl o-wBtSi o-bwUciP o-btTZkL o-bfyaNx o-eAZqQI\" data-src=\"https://imgd.aeplcdn.com/211x211/n/cw/ec/110431/himalayan-452-right-side-view-9.png?isig=0&amp;q=80\" src=\"https://imgd.aeplcdn.com/0x0/statics/grey-1x1.svg\" title=\"Himalayan 450 Image\"/>, <img alt=\"Himalayan 450 Image\" class=\"o-bXKmQE o-cgkaRG o-cQfblS o-bNxxEB o-pGqQl o-wBtSi o-bwUciP o-btTZkL o-bfyaNx o-eAZqQI\" data-src=\"https://imgd.aeplcdn.com/211x211/n/cw/ec/110431/himalayan-450-right-side-view-4.jpeg?isig=0&amp;q=80\" src=\"https://imgd.aeplcdn.com/0x0/statics/grey-1x1.svg\" title=\"Himalayan 450 Image\"/>, <img alt=\"Himalayan 450 Image\" class=\"o-bXKmQE o-cgkaRG o-cQfblS o-bNxxEB o-pGqQl o-wBtSi o-bwUciP o-btTZkL o-bfyaNx o-eAZqQI\" data-src=\"https://imgd.aeplcdn.com/211x211/n/cw/ec/110431/himalayan-452-right-rear-three-quarter.png?isig=0&amp;q=80\" src=\"https://imgd.aeplcdn.com/0x0/statics/grey-1x1.svg\" title=\"Himalayan 450 Image\"/>, <img alt=\"Meteor 350 Image\" class=\"o-bXKmQE o-cgkaRG o-cQfblS o-bNxxEB o-pGqQl o-wBtSi o-bwUciP o-btTZkL o-bfyaNx o-eAZqQI\" data-src=\"https://imgd.aeplcdn.com/211x211/n/cw/ec/51245/meteor-350-right-front-three-quarter.jpeg?q=80\" src=\"https://imgd.aeplcdn.com/0x0/statics/grey-1x1.svg\" title=\"Meteor 350 Image\"/>, <img alt=\"Meteor 350 Image\" class=\"o-bXKmQE o-cgkaRG o-cQfblS o-bNxxEB o-pGqQl o-wBtSi o-bwUciP o-btTZkL o-bfyaNx o-eAZqQI\" data-src=\"https://imgd.aeplcdn.com/211x211/n/cw/ec/51245/meteor-350-right-front-three-quarter.jpeg?q=80\" src=\"https://imgd.aeplcdn.com/0x0/statics/grey-1x1.svg\" title=\"Meteor 350 Image\"/>, <img alt=\"Meteor 350 Image\" class=\"o-bXKmQE o-cgkaRG o-cQfblS o-bNxxEB o-pGqQl o-wBtSi o-bwUciP o-btTZkL o-bfyaNx o-eAZqQI\" data-src=\"https://imgd.aeplcdn.com/211x211/n/cw/ec/51245/meteor-350-right-front-three-quarter.jpeg?q=80\" src=\"https://imgd.aeplcdn.com/0x0/statics/grey-1x1.svg\" title=\"Meteor 350 Image\"/>, <img alt=\"Meteor 350 Image\" class=\"o-bXKmQE o-cgkaRG o-cQfblS o-bNxxEB o-pGqQl o-wBtSi o-bwUciP o-btTZkL o-bfyaNx o-eAZqQI\" data-src=\"https://imgd.aeplcdn.com/211x211/n/cw/ec/51245/meteor-350-right-front-three-quarter-9.jpeg?isig=0&amp;q=80\" src=\"https://imgd.aeplcdn.com/0x0/statics/grey-1x1.svg\" title=\"Meteor 350 Image\"/>, <img alt=\"Meteor 350 Image\" class=\"o-bXKmQE o-cgkaRG o-cQfblS o-bNxxEB o-pGqQl o-wBtSi o-bwUciP o-btTZkL o-bfyaNx o-eAZqQI\" data-src=\"https://imgd.aeplcdn.com/211x211/n/cw/ec/51245/meteor-350-right-front-three-quarter-9.jpeg?isig=0&amp;q=80\" src=\"https://imgd.aeplcdn.com/0x0/statics/grey-1x1.svg\" title=\"Meteor 350 Image\"/>, <img alt=\"Meteor 350 Image\" class=\"o-bXKmQE o-cgkaRG o-cQfblS o-bNxxEB o-pGqQl o-wBtSi o-bwUciP o-btTZkL o-bfyaNx o-eAZqQI\" data-src=\"https://imgd.aeplcdn.com/211x211/n/cw/ec/51245/meteor-350-right-front-three-quarter-9.jpeg?isig=0&amp;q=80\" src=\"https://imgd.aeplcdn.com/0x0/statics/grey-1x1.svg\" title=\"Meteor 350 Image\"/>, <img alt=\"Royal Enfield Shotgun 650 Road Test Review | The Best 650cc Royal Enfield? | BikeWale\" class=\"o-bXKmQE o-cgkaRG o-cQfblS o-bNxxEB o-pGqQl o-wBtSi o-bwUciP o-btTZkL o-bfyaNx o-eAZqQI\" data-src=\"https://img.youtube.com/vi/nIhmbwGsWdY/mqdefault.jpg\" src=\"https://imgd.aeplcdn.com/0x0/statics/grey-16x9.svg\" title=\"Royal Enfield Shotgun 650 Road Test Review | The Best 650cc Royal Enfield? | BikeWale\"/>, <img alt=\"youtube-icon\" class=\"o-bXKmQE o-cgkaRG o-cQfblS o-bNxxEB o-pGqQl o-wBtSi o-bwUciP o-btTZkL o-bfyaNx o-eAZqQI\" data-src=\"https://imgd.aeplcdn.com/0x0/cw/static/icons/svg/logos/youtube-icon.svg\" src=\"https://imgd.aeplcdn.com/0x0/statics/grey-1x1.svg\" title=\"youtube-icon\"/>, <img alt=\"Royal Enfield Shotgun 650 Review | Here's Why It's Better Than Super Meteor 650 &amp; Interceptor 650\" class=\"o-bXKmQE o-cgkaRG o-cQfblS o-bNxxEB o-pGqQl o-wBtSi o-bwUciP o-btTZkL o-bfyaNx o-eAZqQI\" data-src=\"https://img.youtube.com/vi/2k49a3ULRaE/mqdefault.jpg\" src=\"https://imgd.aeplcdn.com/0x0/statics/grey-16x9.svg\" title=\"Royal Enfield Shotgun 650 Review | Here's Why It's Better Than Super Meteor 650 &amp; Interceptor 650\"/>, <img alt=\"youtube-icon\" class=\"o-bXKmQE o-cgkaRG o-cQfblS o-bNxxEB o-pGqQl o-wBtSi o-bwUciP o-btTZkL o-bfyaNx o-eAZqQI\" data-src=\"https://imgd.aeplcdn.com/0x0/cw/static/icons/svg/logos/youtube-icon.svg\" src=\"https://imgd.aeplcdn.com/0x0/statics/grey-1x1.svg\" title=\"youtube-icon\"/>, <img alt=\"Upcoming Bikes in January 2024 | Shotgun 650, Hero 440cc Bike, Ather 450 Apex, Chetak Premium &amp; More\" class=\"o-bXKmQE o-cgkaRG o-cQfblS o-bNxxEB o-pGqQl o-wBtSi o-bwUciP o-btTZkL o-bfyaNx o-eAZqQI\" data-src=\"https://img.youtube.com/vi/h9aKK_oGkWA/mqdefault.jpg\" src=\"https://imgd.aeplcdn.com/0x0/statics/grey-16x9.svg\" title=\"Upcoming Bikes in January 2024 | Shotgun 650, Hero 440cc Bike, Ather 450 Apex, Chetak Premium &amp; More\"/>, <img alt=\"youtube-icon\" class=\"o-bXKmQE o-cgkaRG o-cQfblS o-bNxxEB o-pGqQl o-wBtSi o-bwUciP o-btTZkL o-bfyaNx o-eAZqQI\" data-src=\"https://imgd.aeplcdn.com/0x0/cw/static/icons/svg/logos/youtube-icon.svg\" src=\"https://imgd.aeplcdn.com/0x0/statics/grey-1x1.svg\" title=\"youtube-icon\"/>, <img alt=\"Royal Enfield Shotgun 650 Walkaround | Exhaust Sound, Launch Date &amp; More | Motoverse 2023 |BikeWale\" class=\"o-bXKmQE o-cgkaRG o-cQfblS o-bNxxEB o-pGqQl o-wBtSi o-bwUciP o-btTZkL o-bfyaNx o-eAZqQI\" data-src=\"https://img.youtube.com/vi/bXwtTaG9t7Q/mqdefault.jpg\" src=\"https://imgd.aeplcdn.com/0x0/statics/grey-16x9.svg\" title=\"Royal Enfield Shotgun 650 Walkaround | Exhaust Sound, Launch Date &amp; More | Motoverse 2023 |BikeWale\"/>, <img alt=\"youtube-icon\" class=\"o-bXKmQE o-cgkaRG o-cQfblS o-bNxxEB o-pGqQl o-wBtSi o-bwUciP o-btTZkL o-bfyaNx o-eAZqQI\" data-src=\"https://imgd.aeplcdn.com/0x0/cw/static/icons/svg/logos/youtube-icon.svg\" src=\"https://imgd.aeplcdn.com/0x0/statics/grey-1x1.svg\" title=\"youtube-icon\"/>, <img alt=\"Royal Enfield Himalayan 450 Long Term Review: Off-road \" class=\"o-bXKmQE o-cgkaRG o-cQfblS o-bNxxEB o-pGqQl o-wBtSi o-bwUciP o-btTZkL o-bfyaNx o-eAZqQI\" data-src=\"https://imgd.aeplcdn.com/370x208/n/cw/ec/176843/royalenfield-himalayan-right-side-view3.jpeg?isig=0&amp;wm=3&amp;q=80\" src=\"https://imgd.aeplcdn.com/0x0/statics/grey-16x9.svg\" title=\"Royal Enfield Himalayan 450 Long Term Review: Off-road \"/>, <img alt=\"Royal Enfield Streetwind Eco-Friendly Jacket Review – 5-Month Update\" class=\"o-bXKmQE o-cgkaRG o-cQfblS o-bNxxEB o-pGqQl o-wBtSi o-bwUciP o-btTZkL o-bfyaNx o-eAZqQI\" data-src=\"https://imgd.aeplcdn.com/370x208/n/cw/ec/172391/royalenfield-classic-350-bobber-front-view0.jpeg?isig=0&amp;wm=3&amp;q=80\" src=\"https://imgd.aeplcdn.com/0x0/statics/grey-16x9.svg\" title=\"Royal Enfield Streetwind Eco-Friendly Jacket Review – 5-Month Update\"/>, <img alt=\"TVS Eurogrip Terrabite DB+ and Dura Trail EB+ tyres: Road review\" class=\"o-bXKmQE o-cgkaRG o-cQfblS o-bNxxEB o-pGqQl o-wBtSi o-bwUciP o-btTZkL o-bfyaNx o-eAZqQI\" data-src=\"https://imgd.aeplcdn.com/370x208/n/cw/ec/172303/royalenfield-classic-350-right-front-three-quarter1-2.jpeg?isig=0&amp;wm=3&amp;q=80\" src=\"https://imgd.aeplcdn.com/0x0/statics/grey-16x9.svg\" title=\"TVS Eurogrip Terrabite DB+ and Dura Trail EB+ tyres: Road review\"/>, <img alt=\"Rynox Quest Pro Protective Base Layer Long-Term Review: Introduction             \" class=\"o-bXKmQE o-cgkaRG o-cQfblS o-bNxxEB o-pGqQl o-wBtSi o-bwUciP o-btTZkL o-bfyaNx o-eAZqQI\" data-src=\"https://imgd.aeplcdn.com/370x208/n/cw/ec/172167/royalenfield-himalayan-right-side-view4.jpeg?isig=0&amp;wm=3&amp;q=80\" src=\"https://imgd.aeplcdn.com/0x0/statics/grey-16x9.svg\" title=\"Rynox Quest Pro Protective Base Layer Long-Term Review: Introduction             \"/>, <img alt=\"Royal Enfield Himalayan 450 Long Term Review: City Report\" class=\"o-bXKmQE o-cgkaRG o-cQfblS o-bNxxEB o-pGqQl o-wBtSi o-bwUciP o-btTZkL o-bfyaNx o-eAZqQI\" data-src=\"https://imgd.aeplcdn.com/370x208/n/cw/ec/171577/royalenfield-himalayan-450-left-front-three-quarter0.jpeg?isig=0&amp;wm=3&amp;q=80\" src=\"https://imgd.aeplcdn.com/0x0/statics/grey-16x9.svg\" title=\"Royal Enfield Himalayan 450 Long Term Review: City Report\"/>, <img alt=\"Royal Enfield Strident Riding Gloves Review – Six-Month Update\" class=\"o-bXKmQE o-cgkaRG o-cQfblS o-bNxxEB o-pGqQl o-wBtSi o-bwUciP o-btTZkL o-bfyaNx o-eAZqQI\" data-src=\"https://imgd.aeplcdn.com/370x208/n/cw/ec/171215/royalenfield-bullet-650-fingers1.jpeg?isig=0&amp;wm=3&amp;q=80\" src=\"https://imgd.aeplcdn.com/0x0/statics/grey-16x9.svg\" title=\"Royal Enfield Strident Riding Gloves Review – Six-Month Update\"/>, <img alt=\"Like Button\" class=\"o-bXKmQE o-cgkaRG o-cQfblS o-bNxxEB o-pGqQl o-wBtSi o-bwUciP o-btTZkL o-bfyaNx o-eAZqQI\" data-src=\"https://imgd.aeplcdn.com/0x0/cw/static/icons/svg/userreview/like-dislike.svg\" src=\"https://imgd.aeplcdn.com/0x0/statics/grey-1x1.svg\" title=\"Like Button\"/>, <img alt=\"DisLike Button\" class=\"o-bXKmQE o-cgkaRG o-cQfblS o-bNxxEB o-pGqQl o-wBtSi o-bwUciP o-btTZkL o-bfyaNx o-eAZqQI\" data-src=\"https://imgd.aeplcdn.com/0x0/cw/static/icons/svg/userreview/like-dislike.svg\" src=\"https://imgd.aeplcdn.com/0x0/statics/grey-1x1.svg\" title=\"DisLike Button\"/>, <img alt=\"Like Button\" class=\"o-bXKmQE o-cgkaRG o-cQfblS o-bNxxEB o-pGqQl o-wBtSi o-bwUciP o-btTZkL o-bfyaNx o-eAZqQI\" data-src=\"https://imgd.aeplcdn.com/0x0/cw/static/icons/svg/userreview/like-dislike.svg\" src=\"https://imgd.aeplcdn.com/0x0/statics/grey-1x1.svg\" title=\"Like Button\"/>, <img alt=\"DisLike Button\" class=\"o-bXKmQE o-cgkaRG o-cQfblS o-bNxxEB o-pGqQl o-wBtSi o-bwUciP o-btTZkL o-bfyaNx o-eAZqQI\" data-src=\"https://imgd.aeplcdn.com/0x0/cw/static/icons/svg/userreview/like-dislike.svg\" src=\"https://imgd.aeplcdn.com/0x0/statics/grey-1x1.svg\" title=\"DisLike Button\"/>, <img alt=\"Like Button\" class=\"o-bXKmQE o-cgkaRG o-cQfblS o-bNxxEB o-pGqQl o-wBtSi o-bwUciP o-btTZkL o-bfyaNx o-eAZqQI\" data-src=\"https://imgd.aeplcdn.com/0x0/cw/static/icons/svg/userreview/like-dislike.svg\" src=\"https://imgd.aeplcdn.com/0x0/statics/grey-1x1.svg\" title=\"Like Button\"/>, <img alt=\"DisLike Button\" class=\"o-bXKmQE o-cgkaRG o-cQfblS o-bNxxEB o-pGqQl o-wBtSi o-bwUciP o-btTZkL o-bfyaNx o-eAZqQI\" data-src=\"https://imgd.aeplcdn.com/0x0/cw/static/icons/svg/userreview/like-dislike.svg\" src=\"https://imgd.aeplcdn.com/0x0/statics/grey-1x1.svg\" title=\"DisLike Button\"/>, <img alt=\"Like Button\" class=\"o-bXKmQE o-cgkaRG o-cQfblS o-bNxxEB o-pGqQl o-wBtSi o-bwUciP o-btTZkL o-bfyaNx o-eAZqQI\" data-src=\"https://imgd.aeplcdn.com/0x0/cw/static/icons/svg/userreview/like-dislike.svg\" src=\"https://imgd.aeplcdn.com/0x0/statics/grey-1x1.svg\" title=\"Like Button\"/>, <img alt=\"DisLike Button\" class=\"o-bXKmQE o-cgkaRG o-cQfblS o-bNxxEB o-pGqQl o-wBtSi o-bwUciP o-btTZkL o-bfyaNx o-eAZqQI\" data-src=\"https://imgd.aeplcdn.com/0x0/cw/static/icons/svg/userreview/like-dislike.svg\" src=\"https://imgd.aeplcdn.com/0x0/statics/grey-1x1.svg\" title=\"DisLike Button\"/>, <img alt=\"Like Button\" class=\"o-bXKmQE o-cgkaRG o-cQfblS o-bNxxEB o-pGqQl o-wBtSi o-bwUciP o-btTZkL o-bfyaNx o-eAZqQI\" data-src=\"https://imgd.aeplcdn.com/0x0/cw/static/icons/svg/userreview/like-dislike.svg\" src=\"https://imgd.aeplcdn.com/0x0/statics/grey-1x1.svg\" title=\"Like Button\"/>, <img alt=\"DisLike Button\" class=\"o-bXKmQE o-cgkaRG o-cQfblS o-bNxxEB o-pGqQl o-wBtSi o-bwUciP o-btTZkL o-bfyaNx o-eAZqQI\" data-src=\"https://imgd.aeplcdn.com/0x0/cw/static/icons/svg/userreview/like-dislike.svg\" src=\"https://imgd.aeplcdn.com/0x0/statics/grey-1x1.svg\" title=\"DisLike Button\"/>, <img alt=\"Royal Enfield Guerrilla 450 to be most affordable in the line-up\" class=\"o-bXKmQE o-cgkaRG o-cQfblS o-bNxxEB o-pGqQl o-wBtSi o-bwUciP o-btTZkL o-bfyaNx o-eAZqQI\" data-src=\"https://imgd.aeplcdn.com/370x208/n/cw/ec/181043/royalenfield-guerrilla-450-right-side-view1.jpeg?isig=0&amp;q=80\" src=\"https://imgd.aeplcdn.com/0x0/statics/grey-16x9.svg\" title=\"Royal Enfield Guerrilla 450 to be most affordable in the line-up\"/>, <img alt=\"Royal Enfield Gurreilla 450 first teased video released!\" class=\"o-bXKmQE o-cgkaRG o-cQfblS o-bNxxEB o-pGqQl o-wBtSi o-bwUciP o-btTZkL o-bfyaNx o-eAZqQI\" data-src=\"https://imgd.aeplcdn.com/370x208/n/cw/ec/181041/royalenfield-guerrilla-450-front-view0.jpeg?isig=0&amp;q=80\" src=\"https://imgd.aeplcdn.com/0x0/statics/grey-16x9.svg\" title=\"Royal Enfield Gurreilla 450 first teased video released!\"/>, <img alt=\"BSA Gold Star vs Royal Enfield Interceptor 650- competition check \" class=\"o-bXKmQE o-cgkaRG o-cQfblS o-bNxxEB o-pGqQl o-wBtSi o-bwUciP o-btTZkL o-bfyaNx o-eAZqQI\" data-src=\"https://imgd.aeplcdn.com/370x208/n/cw/ec/181023/royalenfield-interceptor-right-side-view7-2.jpeg?isig=0&amp;q=80\" src=\"https://imgd.aeplcdn.com/0x0/statics/grey-16x9.svg\" title=\"BSA Gold Star vs Royal Enfield Interceptor 650- competition check \"/>, <img alt=\"Royal Enfield Guerrilla officially revealed\" class=\"o-bXKmQE o-cgkaRG o-cQfblS o-bNxxEB o-pGqQl o-wBtSi o-bwUciP o-btTZkL o-bfyaNx o-eAZqQI\" data-src=\"https://imgd.aeplcdn.com/370x208/n/cw/ec/181027/royalenfield-scrambler-450-left-front-three-quarter0.jpeg?isig=0&amp;q=80\" src=\"https://imgd.aeplcdn.com/0x0/statics/grey-16x9.svg\" title=\"Royal Enfield Guerrilla officially revealed\"/>, <img alt=\"Your weekly dose of bike updates: Triumph Daytona 660, Royal Enfield Himalayan 450, and more!\" class=\"o-bXKmQE o-cgkaRG o-cQfblS o-bNxxEB o-pGqQl o-wBtSi o-bwUciP o-btTZkL o-bfyaNx o-eAZqQI\" data-src=\"https://imgd.aeplcdn.com/370x208/n/cw/ec/180107/triumph-daytona-660-collage0.jpeg?isig=0&amp;q=80\" src=\"https://imgd.aeplcdn.com/0x0/statics/grey-16x9.svg\" title=\"Your weekly dose of bike updates: Triumph Daytona 660, Royal Enfield Himalayan 450, and more!\"/>, <img alt=\"Royal Enfield Motoverse registrations open\" class=\"o-bXKmQE o-cgkaRG o-cQfblS o-bNxxEB o-pGqQl o-wBtSi o-bwUciP o-btTZkL o-bfyaNx o-eAZqQI\" data-src=\"https://imgd.aeplcdn.com/370x208/n/cw/ec/180063/royalenfield-right-side-view1.jpeg?isig=0&amp;q=80\" src=\"https://imgd.aeplcdn.com/0x0/statics/grey-16x9.svg\" title=\"Royal Enfield Motoverse registrations open\"/>, <img alt=\"Bangalore\" class=\"o-bXKmQE o-cgkaRG o-cQfblS o-bNxxEB o-pGqQl o-wBtSi o-bwUciP o-btTZkL o-bfyaNx o-eAZqQI\" data-src=\"https://imgd.aeplcdn.com/80x52/n/k88k3sa_1483601.jpg?q=80\" src=\"https://imgd.aeplcdn.com/0x0/statics/grey-4x3.svg\" title=\"Bangalore\"/>, <img alt=\"Hyderabad\" class=\"o-bXKmQE o-cgkaRG o-cQfblS o-bNxxEB o-pGqQl o-wBtSi o-bwUciP o-btTZkL o-bfyaNx o-eAZqQI\" data-src=\"https://imgd.aeplcdn.com/80x52/n/sj7k3sa_1483605.jpg?q=80\" src=\"https://imgd.aeplcdn.com/0x0/statics/grey-4x3.svg\" title=\"Hyderabad\"/>, <img alt=\"Chennai\" class=\"o-bXKmQE o-cgkaRG o-cQfblS o-bNxxEB o-pGqQl o-wBtSi o-bwUciP o-btTZkL o-bfyaNx o-eAZqQI\" data-src=\"https://imgd.aeplcdn.com/80x52/n/zhlk3sa_1483604.jpg?q=80\" src=\"https://imgd.aeplcdn.com/0x0/statics/grey-4x3.svg\" title=\"Chennai\"/>, <img alt=\"Delhi\" class=\"o-bXKmQE o-cgkaRG o-cQfblS o-bNxxEB o-pGqQl o-wBtSi o-bwUciP o-btTZkL o-bfyaNx o-eAZqQI\" data-src=\"https://imgd.aeplcdn.com/80x52/n/1jnk3sa_1483607.jpg?q=80\" src=\"https://imgd.aeplcdn.com/0x0/statics/grey-4x3.svg\" title=\"Delhi\"/>, <img alt=\"Pune\" class=\"o-bXKmQE o-cgkaRG o-cQfblS o-bNxxEB o-pGqQl o-wBtSi o-bwUciP o-btTZkL o-bfyaNx o-eAZqQI\" data-src=\"https://imgd.aeplcdn.com/80x52/n/53hk3sa_1483599.jpg?q=80\" src=\"https://imgd.aeplcdn.com/0x0/statics/grey-4x3.svg\" title=\"Pune\"/>, <img alt=\"Mumbai\" class=\"o-bXKmQE o-cgkaRG o-cQfblS o-bNxxEB o-pGqQl o-wBtSi o-bwUciP o-btTZkL o-bfyaNx o-eAZqQI\" data-src=\"https://imgd.aeplcdn.com/80x52/n/ergk3sa_1483598.jpg?q=80\" src=\"https://imgd.aeplcdn.com/0x0/statics/grey-4x3.svg\" title=\"Mumbai\"/>, <img alt=\"Kolkata\" class=\"o-bXKmQE o-cgkaRG o-cQfblS o-bNxxEB o-pGqQl o-wBtSi o-bwUciP o-btTZkL o-bfyaNx o-eAZqQI\" data-src=\"https://imgd.aeplcdn.com/80x52/n/9omk3sa_1483606.jpg?q=80\" src=\"https://imgd.aeplcdn.com/0x0/statics/grey-4x3.svg\" title=\"Kolkata\"/>, <img alt=\"Lucknow\" class=\"o-bXKmQE o-cgkaRG o-cQfblS o-bNxxEB o-pGqQl o-wBtSi o-bwUciP o-btTZkL o-bfyaNx o-eAZqQI\" data-src=\"https://imgd.aeplcdn.com/80x52/n/d7kk3sa_1483603.jpg?q=80\" src=\"https://imgd.aeplcdn.com/0x0/statics/grey-4x3.svg\" title=\"Lucknow\"/>, <img alt=\"Yamaha\" class=\"o-bXKmQE o-cgkaRG o-cQfblS o-bNxxEB o-pGqQl o-wBtSi o-bwUciP o-btTZkL o-bfyaNx o-eAZqQI\" data-src=\"https://imgd.aeplcdn.com/0X0/bw/makes/yamaha20200508193220.jpg?q=80\" src=\"https://imgd.aeplcdn.com/0x0/statics/grey-16x9.svg\" title=\"Yamaha\"/>, <img alt=\"KTM\" class=\"o-bXKmQE o-cgkaRG o-cQfblS o-bNxxEB o-pGqQl o-wBtSi o-bwUciP o-btTZkL o-bfyaNx o-eAZqQI\" data-src=\"https://imgd.aeplcdn.com/0X0/bw/makes/ktm20200518163508.jpg?q=80\" src=\"https://imgd.aeplcdn.com/0x0/statics/grey-16x9.svg\" title=\"KTM\"/>, <img alt=\"Jawa\" class=\"o-bXKmQE o-cgkaRG o-cQfblS o-bNxxEB o-pGqQl o-wBtSi o-bwUciP o-btTZkL o-bfyaNx o-eAZqQI\" data-src=\"https://imgd.aeplcdn.com/0X0/bw/makes/jawa20200508192940.jpg?q=80\" src=\"https://imgd.aeplcdn.com/0x0/statics/grey-16x9.svg\" title=\"Jawa\"/>, <img alt=\"Husqvarna\" class=\"o-bXKmQE o-cgkaRG o-cQfblS o-bNxxEB o-pGqQl o-wBtSi o-bwUciP o-btTZkL o-bfyaNx o-eAZqQI\" data-src=\"https://imgd.aeplcdn.com/0X0/bw/makes/husqvarna20200508192901.jpg?q=80\" src=\"https://imgd.aeplcdn.com/0x0/statics/grey-16x9.svg\" title=\"Husqvarna\"/>, <img alt=\"Keeway\" class=\"o-bXKmQE o-cgkaRG o-cQfblS o-bNxxEB o-pGqQl o-wBtSi o-bwUciP o-btTZkL o-bfyaNx o-eAZqQI\" data-src=\"https://imgd.aeplcdn.com/0X0/n/cw/ec/115/brands/logos/keeway1652859658203.jpg?v=1652859658281&amp;q=80\" src=\"https://imgd.aeplcdn.com/0x0/statics/grey-16x9.svg\" title=\"Keeway\"/>, <img alt=\"Honda\" class=\"o-bXKmQE o-cgkaRG o-cQfblS o-bNxxEB o-pGqQl o-wBtSi o-bwUciP o-btTZkL o-bfyaNx o-eAZqQI\" data-src=\"https://imgd.aeplcdn.com/0X0/bw/makes/honda20200511152343.jpg?q=80\" src=\"https://imgd.aeplcdn.com/0x0/statics/grey-16x9.svg\" title=\"Honda\"/>, <img alt=\"Hero\" class=\"o-bXKmQE o-cgkaRG o-cQfblS o-bNxxEB o-pGqQl o-wBtSi o-bwUciP o-btTZkL o-bfyaNx o-eAZqQI\" data-src=\"https://imgd.aeplcdn.com/0X0/bw/makes/hero20200508192826.jpg?q=80\" src=\"https://imgd.aeplcdn.com/0x0/statics/grey-16x9.svg\" title=\"Hero\"/>, <img alt=\"Bajaj\" class=\"o-bXKmQE o-cgkaRG o-cQfblS o-bNxxEB o-pGqQl o-wBtSi o-bwUciP o-btTZkL o-bfyaNx o-eAZqQI\" data-src=\"https://imgd.aeplcdn.com/0X0/bw/makes/bajaj20200508192534.jpg?q=80\" src=\"https://imgd.aeplcdn.com/0x0/statics/grey-16x9.svg\" title=\"Bajaj\"/>, <img alt=\"TVS\" class=\"o-bXKmQE o-cgkaRG o-cQfblS o-bNxxEB o-pGqQl o-wBtSi o-bwUciP o-btTZkL o-bfyaNx o-eAZqQI\" data-src=\"https://imgd.aeplcdn.com/0X0/bw/makes/tvs20200508193203.jpg?q=80\" src=\"https://imgd.aeplcdn.com/0x0/statics/grey-16x9.svg\" title=\"TVS\"/>, <img alt=\"Download BikeWale iOS App\" class=\"o-bXKmQE o-cgkaRG o-cQfblS o-bNxxEB o-pGqQl o-wBtSi o-bwUciP o-btTZkL o-bfyaNx o-eAZqQI\" data-src=\"https://imgd.aeplcdn.com/0x0/cw/static/icons/svg/app-store.svg?v2\" src=\"https://imgd.aeplcdn.com/0x0/statics/grey.gif\" title=\"Download BikeWale iOS App\"/>, <img alt=\"Download BikeWale Android App\" class=\"o-bXKmQE o-cgkaRG o-cQfblS o-bNxxEB o-pGqQl o-wBtSi o-bwUciP o-btTZkL o-bfyaNx o-eAZqQI\" data-src=\"https://imgd.aeplcdn.com/0x0/cw/static/icons/svg/play-store.svg?v2\" src=\"https://imgd.aeplcdn.com/0x0/statics/grey.gif\" title=\"Download BikeWale Android App\"/>]\n"
          ]
        }
      ]
    },
    {
      "cell_type": "code",
      "source": [
        "for image in images:\n",
        "  print(image['src'])"
      ],
      "metadata": {
        "colab": {
          "base_uri": "https://localhost:8080/"
        },
        "id": "C83ptpfl-suD",
        "outputId": "08d54023-8717-41c6-beb5-d2e97246de12"
      },
      "execution_count": 21,
      "outputs": [
        {
          "output_type": "stream",
          "name": "stdout",
          "text": [
            "https://www.facebook.com/tr?id=904915516356416&ev=PageView&noscript=1\n",
            "https://imgd.aeplcdn.com/227x128/n/cw/ec/124013/hunter-350-right-side-view-5.png?isig=0&q=80\n",
            "https://imgd.aeplcdn.com/227x128/n/cw/ec/49656/continental-gt-right-side-view-12.png?isig=0&q=80\n",
            "https://imgd.aeplcdn.com/227x128/n/cw/ec/101487/classic-350-right-side-view-20.png?isig=0&q=80\n",
            "https://imgd.aeplcdn.com/0x0/statics/grey-16x9.svg\n",
            "https://imgd.aeplcdn.com/0x0/statics/grey-16x9.svg\n",
            "https://imgd.aeplcdn.com/0x0/statics/grey-16x9.svg\n",
            "https://imgd.aeplcdn.com/0x0/statics/grey-16x9.svg\n",
            "https://imgd.aeplcdn.com/0x0/statics/grey-16x9.svg\n",
            "https://imgd.aeplcdn.com/0x0/statics/grey-16x9.svg\n",
            "https://imgd.aeplcdn.com/0x0/statics/grey-16x9.svg\n",
            "https://imgd.aeplcdn.com/0x0/statics/grey-16x9.svg\n",
            "https://imgd.aeplcdn.com/0x0/statics/grey-16x9.svg\n",
            "https://imgd.aeplcdn.com/0x0/statics/grey-16x9.svg\n",
            "https://imgd.aeplcdn.com/0x0/statics/grey-16x9.svg\n",
            "https://imgd.aeplcdn.com/0x0/statics/grey-16x9.svg\n",
            "https://imgd.aeplcdn.com/0x0/statics/grey-16x9.svg\n",
            "https://imgd.aeplcdn.com/0x0/statics/grey-16x9.svg\n",
            "https://imgd.aeplcdn.com/0x0/statics/grey-16x9.svg\n",
            "https://imgd.aeplcdn.com/0x0/statics/grey-16x9.svg\n",
            "https://imgd.aeplcdn.com/0x0/statics/grey-16x9.svg\n",
            "https://imgd.aeplcdn.com/0x0/statics/grey-16x9.svg\n",
            "https://imgd.aeplcdn.com/0x0/statics/grey-16x9.svg\n",
            "https://imgd.aeplcdn.com/0x0/statics/grey-16x9.svg\n",
            "https://imgd.aeplcdn.com/0x0/statics/grey-16x9.svg\n",
            "https://imgd.aeplcdn.com/0x0/statics/grey-16x9.svg\n",
            "https://imgd.aeplcdn.com/0x0/statics/grey-16x9.svg\n",
            "https://imgd.aeplcdn.com/0x0/statics/grey-16x9.svg\n",
            "https://imgd.aeplcdn.com/0x0/statics/grey-16x9.svg\n",
            "https://imgd.aeplcdn.com/0x0/statics/grey-16x9.svg\n",
            "https://imgd.aeplcdn.com/0x0/statics/grey-16x9.svg\n",
            "https://imgd.aeplcdn.com/0x0/statics/grey-16x9.svg\n",
            "https://imgd.aeplcdn.com/0x0/statics/grey-16x9.svg\n",
            "https://imgd.aeplcdn.com/0x0/statics/grey-16x9.svg\n",
            "https://imgd.aeplcdn.com/0x0/statics/grey-16x9.svg\n",
            "https://imgd.aeplcdn.com/0x0/statics/grey-16x9.svg\n",
            "https://imgd.aeplcdn.com/0x0/statics/grey-16x9.svg\n",
            "https://imgd.aeplcdn.com/0x0/statics/grey-16x9.svg\n",
            "https://imgd.aeplcdn.com/0x0/statics/grey-1x1.svg\n",
            "https://imgd.aeplcdn.com/0x0/statics/grey-1x1.svg\n",
            "https://imgd.aeplcdn.com/0x0/statics/grey-1x1.svg\n",
            "https://imgd.aeplcdn.com/0x0/statics/grey-1x1.svg\n",
            "https://imgd.aeplcdn.com/0x0/statics/grey-1x1.svg\n",
            "https://imgd.aeplcdn.com/0x0/statics/grey-1x1.svg\n",
            "https://imgd.aeplcdn.com/0x0/statics/grey-1x1.svg\n",
            "https://imgd.aeplcdn.com/0x0/statics/grey-1x1.svg\n",
            "https://imgd.aeplcdn.com/0x0/statics/grey-1x1.svg\n",
            "https://imgd.aeplcdn.com/0x0/statics/grey-1x1.svg\n",
            "https://imgd.aeplcdn.com/0x0/statics/grey-1x1.svg\n",
            "https://imgd.aeplcdn.com/0x0/statics/grey-1x1.svg\n",
            "https://imgd.aeplcdn.com/0x0/statics/grey-1x1.svg\n",
            "https://imgd.aeplcdn.com/0x0/statics/grey-1x1.svg\n",
            "https://imgd.aeplcdn.com/0x0/statics/grey-1x1.svg\n",
            "https://imgd.aeplcdn.com/0x0/statics/grey-1x1.svg\n",
            "https://imgd.aeplcdn.com/0x0/statics/grey-1x1.svg\n",
            "https://imgd.aeplcdn.com/0x0/statics/grey-1x1.svg\n",
            "https://imgd.aeplcdn.com/0x0/statics/grey-1x1.svg\n",
            "https://imgd.aeplcdn.com/0x0/statics/grey-1x1.svg\n",
            "https://imgd.aeplcdn.com/0x0/statics/grey-1x1.svg\n",
            "https://imgd.aeplcdn.com/0x0/statics/grey-1x1.svg\n",
            "https://imgd.aeplcdn.com/0x0/statics/grey-1x1.svg\n",
            "https://imgd.aeplcdn.com/0x0/statics/grey-1x1.svg\n",
            "https://imgd.aeplcdn.com/0x0/statics/grey-1x1.svg\n",
            "https://imgd.aeplcdn.com/0x0/statics/grey-1x1.svg\n",
            "https://imgd.aeplcdn.com/0x0/statics/grey-1x1.svg\n",
            "https://imgd.aeplcdn.com/0x0/statics/grey-1x1.svg\n",
            "https://imgd.aeplcdn.com/0x0/statics/grey-1x1.svg\n",
            "https://imgd.aeplcdn.com/0x0/statics/grey-1x1.svg\n",
            "https://imgd.aeplcdn.com/0x0/statics/grey-1x1.svg\n",
            "https://imgd.aeplcdn.com/0x0/statics/grey-1x1.svg\n",
            "https://imgd.aeplcdn.com/0x0/statics/grey-1x1.svg\n",
            "https://imgd.aeplcdn.com/0x0/statics/grey-1x1.svg\n",
            "https://imgd.aeplcdn.com/0x0/statics/grey-1x1.svg\n",
            "https://imgd.aeplcdn.com/0x0/statics/grey-1x1.svg\n",
            "https://imgd.aeplcdn.com/0x0/statics/grey-16x9.svg\n",
            "https://imgd.aeplcdn.com/0x0/statics/grey-1x1.svg\n",
            "https://imgd.aeplcdn.com/0x0/statics/grey-16x9.svg\n",
            "https://imgd.aeplcdn.com/0x0/statics/grey-1x1.svg\n",
            "https://imgd.aeplcdn.com/0x0/statics/grey-16x9.svg\n",
            "https://imgd.aeplcdn.com/0x0/statics/grey-1x1.svg\n",
            "https://imgd.aeplcdn.com/0x0/statics/grey-16x9.svg\n",
            "https://imgd.aeplcdn.com/0x0/statics/grey-1x1.svg\n",
            "https://imgd.aeplcdn.com/0x0/statics/grey-16x9.svg\n",
            "https://imgd.aeplcdn.com/0x0/statics/grey-16x9.svg\n",
            "https://imgd.aeplcdn.com/0x0/statics/grey-16x9.svg\n",
            "https://imgd.aeplcdn.com/0x0/statics/grey-16x9.svg\n",
            "https://imgd.aeplcdn.com/0x0/statics/grey-16x9.svg\n",
            "https://imgd.aeplcdn.com/0x0/statics/grey-16x9.svg\n",
            "https://imgd.aeplcdn.com/0x0/statics/grey-1x1.svg\n",
            "https://imgd.aeplcdn.com/0x0/statics/grey-1x1.svg\n",
            "https://imgd.aeplcdn.com/0x0/statics/grey-1x1.svg\n",
            "https://imgd.aeplcdn.com/0x0/statics/grey-1x1.svg\n",
            "https://imgd.aeplcdn.com/0x0/statics/grey-1x1.svg\n",
            "https://imgd.aeplcdn.com/0x0/statics/grey-1x1.svg\n",
            "https://imgd.aeplcdn.com/0x0/statics/grey-1x1.svg\n",
            "https://imgd.aeplcdn.com/0x0/statics/grey-1x1.svg\n",
            "https://imgd.aeplcdn.com/0x0/statics/grey-1x1.svg\n",
            "https://imgd.aeplcdn.com/0x0/statics/grey-1x1.svg\n",
            "https://imgd.aeplcdn.com/0x0/statics/grey-16x9.svg\n",
            "https://imgd.aeplcdn.com/0x0/statics/grey-16x9.svg\n",
            "https://imgd.aeplcdn.com/0x0/statics/grey-16x9.svg\n",
            "https://imgd.aeplcdn.com/0x0/statics/grey-16x9.svg\n",
            "https://imgd.aeplcdn.com/0x0/statics/grey-16x9.svg\n",
            "https://imgd.aeplcdn.com/0x0/statics/grey-16x9.svg\n",
            "https://imgd.aeplcdn.com/0x0/statics/grey-4x3.svg\n",
            "https://imgd.aeplcdn.com/0x0/statics/grey-4x3.svg\n",
            "https://imgd.aeplcdn.com/0x0/statics/grey-4x3.svg\n",
            "https://imgd.aeplcdn.com/0x0/statics/grey-4x3.svg\n",
            "https://imgd.aeplcdn.com/0x0/statics/grey-4x3.svg\n",
            "https://imgd.aeplcdn.com/0x0/statics/grey-4x3.svg\n",
            "https://imgd.aeplcdn.com/0x0/statics/grey-4x3.svg\n",
            "https://imgd.aeplcdn.com/0x0/statics/grey-4x3.svg\n",
            "https://imgd.aeplcdn.com/0x0/statics/grey-16x9.svg\n",
            "https://imgd.aeplcdn.com/0x0/statics/grey-16x9.svg\n",
            "https://imgd.aeplcdn.com/0x0/statics/grey-16x9.svg\n",
            "https://imgd.aeplcdn.com/0x0/statics/grey-16x9.svg\n",
            "https://imgd.aeplcdn.com/0x0/statics/grey-16x9.svg\n",
            "https://imgd.aeplcdn.com/0x0/statics/grey-16x9.svg\n",
            "https://imgd.aeplcdn.com/0x0/statics/grey-16x9.svg\n",
            "https://imgd.aeplcdn.com/0x0/statics/grey-16x9.svg\n",
            "https://imgd.aeplcdn.com/0x0/statics/grey-16x9.svg\n",
            "https://imgd.aeplcdn.com/0x0/statics/grey.gif\n",
            "https://imgd.aeplcdn.com/0x0/statics/grey.gif\n"
          ]
        }
      ]
    },
    {
      "cell_type": "code",
      "source": [
        "for image in images:\n",
        "  name=image['alt']\n",
        "  link=image['src']\n",
        "  print(name,link)"
      ],
      "metadata": {
        "colab": {
          "base_uri": "https://localhost:8080/"
        },
        "id": "WRYILlLh-30s",
        "outputId": "a6c344ff-27f6-42fd-cca6-de401b191404"
      },
      "execution_count": 22,
      "outputs": [
        {
          "output_type": "stream",
          "name": "stdout",
          "text": [
            "facebook https://www.facebook.com/tr?id=904915516356416&ev=PageView&noscript=1\n",
            "Royal Enfield Hunter 350 https://imgd.aeplcdn.com/227x128/n/cw/ec/124013/hunter-350-right-side-view-5.png?isig=0&q=80\n",
            "Royal Enfield Continental GT 650 https://imgd.aeplcdn.com/227x128/n/cw/ec/49656/continental-gt-right-side-view-12.png?isig=0&q=80\n",
            "Royal Enfield Classic 350 https://imgd.aeplcdn.com/227x128/n/cw/ec/101487/classic-350-right-side-view-20.png?isig=0&q=80\n",
            "Royal Enfield Bullet 350 https://imgd.aeplcdn.com/0x0/statics/grey-16x9.svg\n",
            "Royal Enfield Himalayan 450 https://imgd.aeplcdn.com/0x0/statics/grey-16x9.svg\n",
            "Royal Enfield Meteor 350 https://imgd.aeplcdn.com/0x0/statics/grey-16x9.svg\n",
            "Royal Enfield Shotgun 650 https://imgd.aeplcdn.com/0x0/statics/grey-16x9.svg\n",
            "Royal Enfield Super Meteor 650 https://imgd.aeplcdn.com/0x0/statics/grey-16x9.svg\n",
            "Royal Enfield Interceptor 650 https://imgd.aeplcdn.com/0x0/statics/grey-16x9.svg\n",
            "Royal Enfield Scram 411 https://imgd.aeplcdn.com/0x0/statics/grey-16x9.svg\n",
            "Royal Enfield Guerrilla 450 https://imgd.aeplcdn.com/0x0/statics/grey-16x9.svg\n",
            "Royal Enfield Classic 350 Bobber https://imgd.aeplcdn.com/0x0/statics/grey-16x9.svg\n",
            "Royal Enfield Scrambler 650 https://imgd.aeplcdn.com/0x0/statics/grey-16x9.svg\n",
            "Royal Enfield Himalayan 650 https://imgd.aeplcdn.com/0x0/statics/grey-16x9.svg\n",
            "Royal Enfield Scrambler 450 https://imgd.aeplcdn.com/0x0/statics/grey-16x9.svg\n",
            "Royal Enfield Continental GT 450 https://imgd.aeplcdn.com/0x0/statics/grey-16x9.svg\n",
            "Royal Enfield Bullet 650 https://imgd.aeplcdn.com/0x0/statics/grey-16x9.svg\n",
            "Royal Enfield Himalayan Electric https://imgd.aeplcdn.com/0x0/statics/grey-16x9.svg\n",
            "Royal Enfield Classic 650 https://imgd.aeplcdn.com/0x0/statics/grey-16x9.svg\n",
            "Royal Enfield Hunter 350 https://imgd.aeplcdn.com/0x0/statics/grey-16x9.svg\n",
            "TVS Ronin https://imgd.aeplcdn.com/0x0/statics/grey-16x9.svg\n",
            "Royal Enfield Continental GT 650 https://imgd.aeplcdn.com/0x0/statics/grey-16x9.svg\n",
            "Royal Enfield Interceptor 650 https://imgd.aeplcdn.com/0x0/statics/grey-16x9.svg\n",
            "Royal Enfield Classic 350 https://imgd.aeplcdn.com/0x0/statics/grey-16x9.svg\n",
            "Royal Enfield Bullet 350 https://imgd.aeplcdn.com/0x0/statics/grey-16x9.svg\n",
            "Royal Enfield Bullet 350 https://imgd.aeplcdn.com/0x0/statics/grey-16x9.svg\n",
            "Royal Enfield Hunter 350 https://imgd.aeplcdn.com/0x0/statics/grey-16x9.svg\n",
            "Royal Enfield Himalayan 450 https://imgd.aeplcdn.com/0x0/statics/grey-16x9.svg\n",
            "KTM 390 Adventure X https://imgd.aeplcdn.com/0x0/statics/grey-16x9.svg\n",
            "Royal Enfield Meteor 350 https://imgd.aeplcdn.com/0x0/statics/grey-16x9.svg\n",
            "Honda CB350 https://imgd.aeplcdn.com/0x0/statics/grey-16x9.svg\n",
            "Royal Enfield Shotgun 650 https://imgd.aeplcdn.com/0x0/statics/grey-16x9.svg\n",
            "Royal Enfield Super Meteor 650 https://imgd.aeplcdn.com/0x0/statics/grey-16x9.svg\n",
            "Royal Enfield Super Meteor 650 https://imgd.aeplcdn.com/0x0/statics/grey-16x9.svg\n",
            "Royal Enfield Interceptor 650 https://imgd.aeplcdn.com/0x0/statics/grey-16x9.svg\n",
            "Royal Enfield Interceptor 650 https://imgd.aeplcdn.com/0x0/statics/grey-16x9.svg\n",
            "Royal Enfield Shotgun 650 https://imgd.aeplcdn.com/0x0/statics/grey-16x9.svg\n",
            "Hunter 350 Image https://imgd.aeplcdn.com/0x0/statics/grey-1x1.svg\n",
            "Hunter 350 Image https://imgd.aeplcdn.com/0x0/statics/grey-1x1.svg\n",
            "Hunter 350 Image https://imgd.aeplcdn.com/0x0/statics/grey-1x1.svg\n",
            "Hunter 350 Image https://imgd.aeplcdn.com/0x0/statics/grey-1x1.svg\n",
            "Hunter 350 Image https://imgd.aeplcdn.com/0x0/statics/grey-1x1.svg\n",
            "Hunter 350 Image https://imgd.aeplcdn.com/0x0/statics/grey-1x1.svg\n",
            "Continental GT 650 Image https://imgd.aeplcdn.com/0x0/statics/grey-1x1.svg\n",
            "Continental GT 650 Image https://imgd.aeplcdn.com/0x0/statics/grey-1x1.svg\n",
            "Continental GT 650 Image https://imgd.aeplcdn.com/0x0/statics/grey-1x1.svg\n",
            "Continental GT 650 Image https://imgd.aeplcdn.com/0x0/statics/grey-1x1.svg\n",
            "Continental GT 650 Image https://imgd.aeplcdn.com/0x0/statics/grey-1x1.svg\n",
            "Continental GT 650 Image https://imgd.aeplcdn.com/0x0/statics/grey-1x1.svg\n",
            "Classic 350 Image https://imgd.aeplcdn.com/0x0/statics/grey-1x1.svg\n",
            "Classic 350 Image https://imgd.aeplcdn.com/0x0/statics/grey-1x1.svg\n",
            "Classic 350 Image https://imgd.aeplcdn.com/0x0/statics/grey-1x1.svg\n",
            "Classic 350 Image https://imgd.aeplcdn.com/0x0/statics/grey-1x1.svg\n",
            "Classic 350 Image https://imgd.aeplcdn.com/0x0/statics/grey-1x1.svg\n",
            "Classic 350 Image https://imgd.aeplcdn.com/0x0/statics/grey-1x1.svg\n",
            "Bullet 350 Image https://imgd.aeplcdn.com/0x0/statics/grey-1x1.svg\n",
            "Bullet 350 Image https://imgd.aeplcdn.com/0x0/statics/grey-1x1.svg\n",
            "Bullet 350 Image https://imgd.aeplcdn.com/0x0/statics/grey-1x1.svg\n",
            "Bullet 350 Image https://imgd.aeplcdn.com/0x0/statics/grey-1x1.svg\n",
            "Bullet 350 Image https://imgd.aeplcdn.com/0x0/statics/grey-1x1.svg\n",
            "Bullet 350 Image https://imgd.aeplcdn.com/0x0/statics/grey-1x1.svg\n",
            "Himalayan 450 Image https://imgd.aeplcdn.com/0x0/statics/grey-1x1.svg\n",
            "Himalayan 450 Image https://imgd.aeplcdn.com/0x0/statics/grey-1x1.svg\n",
            "Himalayan 450 Image https://imgd.aeplcdn.com/0x0/statics/grey-1x1.svg\n",
            "Himalayan 450 Image https://imgd.aeplcdn.com/0x0/statics/grey-1x1.svg\n",
            "Himalayan 450 Image https://imgd.aeplcdn.com/0x0/statics/grey-1x1.svg\n",
            "Himalayan 450 Image https://imgd.aeplcdn.com/0x0/statics/grey-1x1.svg\n",
            "Meteor 350 Image https://imgd.aeplcdn.com/0x0/statics/grey-1x1.svg\n",
            "Meteor 350 Image https://imgd.aeplcdn.com/0x0/statics/grey-1x1.svg\n",
            "Meteor 350 Image https://imgd.aeplcdn.com/0x0/statics/grey-1x1.svg\n",
            "Meteor 350 Image https://imgd.aeplcdn.com/0x0/statics/grey-1x1.svg\n",
            "Meteor 350 Image https://imgd.aeplcdn.com/0x0/statics/grey-1x1.svg\n",
            "Meteor 350 Image https://imgd.aeplcdn.com/0x0/statics/grey-1x1.svg\n",
            "Royal Enfield Shotgun 650 Road Test Review | The Best 650cc Royal Enfield? | BikeWale https://imgd.aeplcdn.com/0x0/statics/grey-16x9.svg\n",
            "youtube-icon https://imgd.aeplcdn.com/0x0/statics/grey-1x1.svg\n",
            "Royal Enfield Shotgun 650 Review | Here's Why It's Better Than Super Meteor 650 & Interceptor 650 https://imgd.aeplcdn.com/0x0/statics/grey-16x9.svg\n",
            "youtube-icon https://imgd.aeplcdn.com/0x0/statics/grey-1x1.svg\n",
            "Upcoming Bikes in January 2024 | Shotgun 650, Hero 440cc Bike, Ather 450 Apex, Chetak Premium & More https://imgd.aeplcdn.com/0x0/statics/grey-16x9.svg\n",
            "youtube-icon https://imgd.aeplcdn.com/0x0/statics/grey-1x1.svg\n",
            "Royal Enfield Shotgun 650 Walkaround | Exhaust Sound, Launch Date & More | Motoverse 2023 |BikeWale https://imgd.aeplcdn.com/0x0/statics/grey-16x9.svg\n",
            "youtube-icon https://imgd.aeplcdn.com/0x0/statics/grey-1x1.svg\n",
            "Royal Enfield Himalayan 450 Long Term Review: Off-road  https://imgd.aeplcdn.com/0x0/statics/grey-16x9.svg\n",
            "Royal Enfield Streetwind Eco-Friendly Jacket Review – 5-Month Update https://imgd.aeplcdn.com/0x0/statics/grey-16x9.svg\n",
            "TVS Eurogrip Terrabite DB+ and Dura Trail EB+ tyres: Road review https://imgd.aeplcdn.com/0x0/statics/grey-16x9.svg\n",
            "Rynox Quest Pro Protective Base Layer Long-Term Review: Introduction              https://imgd.aeplcdn.com/0x0/statics/grey-16x9.svg\n",
            "Royal Enfield Himalayan 450 Long Term Review: City Report https://imgd.aeplcdn.com/0x0/statics/grey-16x9.svg\n",
            "Royal Enfield Strident Riding Gloves Review – Six-Month Update https://imgd.aeplcdn.com/0x0/statics/grey-16x9.svg\n",
            "Like Button https://imgd.aeplcdn.com/0x0/statics/grey-1x1.svg\n",
            "DisLike Button https://imgd.aeplcdn.com/0x0/statics/grey-1x1.svg\n",
            "Like Button https://imgd.aeplcdn.com/0x0/statics/grey-1x1.svg\n",
            "DisLike Button https://imgd.aeplcdn.com/0x0/statics/grey-1x1.svg\n",
            "Like Button https://imgd.aeplcdn.com/0x0/statics/grey-1x1.svg\n",
            "DisLike Button https://imgd.aeplcdn.com/0x0/statics/grey-1x1.svg\n",
            "Like Button https://imgd.aeplcdn.com/0x0/statics/grey-1x1.svg\n",
            "DisLike Button https://imgd.aeplcdn.com/0x0/statics/grey-1x1.svg\n",
            "Like Button https://imgd.aeplcdn.com/0x0/statics/grey-1x1.svg\n",
            "DisLike Button https://imgd.aeplcdn.com/0x0/statics/grey-1x1.svg\n",
            "Royal Enfield Guerrilla 450 to be most affordable in the line-up https://imgd.aeplcdn.com/0x0/statics/grey-16x9.svg\n",
            "Royal Enfield Gurreilla 450 first teased video released! https://imgd.aeplcdn.com/0x0/statics/grey-16x9.svg\n",
            "BSA Gold Star vs Royal Enfield Interceptor 650- competition check  https://imgd.aeplcdn.com/0x0/statics/grey-16x9.svg\n",
            "Royal Enfield Guerrilla officially revealed https://imgd.aeplcdn.com/0x0/statics/grey-16x9.svg\n",
            "Your weekly dose of bike updates: Triumph Daytona 660, Royal Enfield Himalayan 450, and more! https://imgd.aeplcdn.com/0x0/statics/grey-16x9.svg\n",
            "Royal Enfield Motoverse registrations open https://imgd.aeplcdn.com/0x0/statics/grey-16x9.svg\n",
            "Bangalore https://imgd.aeplcdn.com/0x0/statics/grey-4x3.svg\n",
            "Hyderabad https://imgd.aeplcdn.com/0x0/statics/grey-4x3.svg\n",
            "Chennai https://imgd.aeplcdn.com/0x0/statics/grey-4x3.svg\n",
            "Delhi https://imgd.aeplcdn.com/0x0/statics/grey-4x3.svg\n",
            "Pune https://imgd.aeplcdn.com/0x0/statics/grey-4x3.svg\n",
            "Mumbai https://imgd.aeplcdn.com/0x0/statics/grey-4x3.svg\n",
            "Kolkata https://imgd.aeplcdn.com/0x0/statics/grey-4x3.svg\n",
            "Lucknow https://imgd.aeplcdn.com/0x0/statics/grey-4x3.svg\n",
            "Yamaha https://imgd.aeplcdn.com/0x0/statics/grey-16x9.svg\n",
            "KTM https://imgd.aeplcdn.com/0x0/statics/grey-16x9.svg\n",
            "Jawa https://imgd.aeplcdn.com/0x0/statics/grey-16x9.svg\n",
            "Husqvarna https://imgd.aeplcdn.com/0x0/statics/grey-16x9.svg\n",
            "Keeway https://imgd.aeplcdn.com/0x0/statics/grey-16x9.svg\n",
            "Honda https://imgd.aeplcdn.com/0x0/statics/grey-16x9.svg\n",
            "Hero https://imgd.aeplcdn.com/0x0/statics/grey-16x9.svg\n",
            "Bajaj https://imgd.aeplcdn.com/0x0/statics/grey-16x9.svg\n",
            "TVS https://imgd.aeplcdn.com/0x0/statics/grey-16x9.svg\n",
            "Download BikeWale iOS App https://imgd.aeplcdn.com/0x0/statics/grey.gif\n",
            "Download BikeWale Android App https://imgd.aeplcdn.com/0x0/statics/grey.gif\n"
          ]
        }
      ]
    }
  ]
}